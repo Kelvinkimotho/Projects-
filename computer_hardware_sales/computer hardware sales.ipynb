{
 "cells": [
  {
   "cell_type": "markdown",
   "id": "b43664aa",
   "metadata": {},
   "source": [
    "# in this project i will be cleaning and analysing computer hardware sales dataset"
   ]
  },
  {
   "cell_type": "code",
   "execution_count": 2,
   "id": "52d13c7b",
   "metadata": {},
   "outputs": [],
   "source": [
    "# importing the necessary modules\n",
    "\n",
    "import pandas as pd\n",
    "import os\n",
    "import matplotlib.pyplot as pyplot\n",
    "\n"
   ]
  },
  {
   "cell_type": "markdown",
   "id": "304e4d2e",
   "metadata": {},
   "source": [
    "# bellow are the files in the folder where the dataset is located"
   ]
  },
  {
   "cell_type": "code",
   "execution_count": 3,
   "id": "ebb542df",
   "metadata": {},
   "outputs": [
    {
     "name": "stdout",
     "output_type": "stream",
     "text": [
      ".ipynb_checkpoints\n",
      "computer hardware sales.ipynb\n",
      "hardwareStore.csv\n"
     ]
    }
   ],
   "source": [
    "path='C:/Users/kelvin/Desktop/projct/proj3'\n",
    "files=[file for file in os.listdir(path)]\n",
    "for file in files:\n",
    "    print(file)"
   ]
  },
  {
   "cell_type": "markdown",
   "id": "649f2b91",
   "metadata": {},
   "source": [
    "# I'll be working on the hardwarestore.csv file ,starting by cleaning the data"
   ]
  },
  {
   "cell_type": "code",
   "execution_count": 5,
   "id": "7cf1873b",
   "metadata": {},
   "outputs": [
    {
     "data": {
      "text/html": [
       "<div>\n",
       "<style scoped>\n",
       "    .dataframe tbody tr th:only-of-type {\n",
       "        vertical-align: middle;\n",
       "    }\n",
       "\n",
       "    .dataframe tbody tr th {\n",
       "        vertical-align: top;\n",
       "    }\n",
       "\n",
       "    .dataframe thead th {\n",
       "        text-align: right;\n",
       "    }\n",
       "</style>\n",
       "<table border=\"1\" class=\"dataframe\">\n",
       "  <thead>\n",
       "    <tr style=\"text-align: right;\">\n",
       "      <th></th>\n",
       "      <th>CATEGORY_ID</th>\n",
       "      <th>CATEGORY_NAME</th>\n",
       "      <th>PRODUCT_ID</th>\n",
       "      <th>PRODUCT_NAME</th>\n",
       "      <th>DESCRIPTION</th>\n",
       "      <th>DESCRIPTION - Detail 1</th>\n",
       "      <th>DESCRIPTION - Detail 2</th>\n",
       "      <th>DESCRIPTION - Detail 3</th>\n",
       "      <th>DESCRIPTION - Detail 4</th>\n",
       "      <th>STANDARD_COST</th>\n",
       "      <th>...</th>\n",
       "      <th>REGION_ID</th>\n",
       "      <th>LOCATION_ID</th>\n",
       "      <th>WAREHOUSE_ID</th>\n",
       "      <th>QUANTITY</th>\n",
       "      <th>WAREHOUSE_NAME</th>\n",
       "      <th>ADDRESS</th>\n",
       "      <th>POSTAL_CODE</th>\n",
       "      <th>CITY</th>\n",
       "      <th>STATE</th>\n",
       "      <th>COUNTRY_NAME</th>\n",
       "    </tr>\n",
       "  </thead>\n",
       "  <tbody>\n",
       "    <tr>\n",
       "      <th>0</th>\n",
       "      <td>1</td>\n",
       "      <td>CPU</td>\n",
       "      <td>8</td>\n",
       "      <td>Intel Xeon E5-1650 V4</td>\n",
       "      <td>Speed:3.6GHz,Cores:6,TDP:140W</td>\n",
       "      <td>Speed:3.6GHz</td>\n",
       "      <td>Cores:6</td>\n",
       "      <td>TDP:140W</td>\n",
       "      <td>NaN</td>\n",
       "      <td>535.47</td>\n",
       "      <td>...</td>\n",
       "      <td>3</td>\n",
       "      <td>11</td>\n",
       "      <td>8</td>\n",
       "      <td>50</td>\n",
       "      <td>Beijing</td>\n",
       "      <td>40-5-12 Laogianggen</td>\n",
       "      <td>190518</td>\n",
       "      <td>Beijing</td>\n",
       "      <td>Shenzhen</td>\n",
       "      <td>China</td>\n",
       "    </tr>\n",
       "    <tr>\n",
       "      <th>1</th>\n",
       "      <td>1</td>\n",
       "      <td>CPU</td>\n",
       "      <td>8</td>\n",
       "      <td>Intel Xeon E5-1650 V4</td>\n",
       "      <td>Speed:3.6GHz,Cores:6,TDP:140W</td>\n",
       "      <td>Speed:3.6GHz</td>\n",
       "      <td>Cores:6</td>\n",
       "      <td>TDP:140W</td>\n",
       "      <td>NaN</td>\n",
       "      <td>535.47</td>\n",
       "      <td>...</td>\n",
       "      <td>3</td>\n",
       "      <td>12</td>\n",
       "      <td>9</td>\n",
       "      <td>36</td>\n",
       "      <td>Bombay</td>\n",
       "      <td>1298 Vileparle (E)</td>\n",
       "      <td>490231</td>\n",
       "      <td>Bombay</td>\n",
       "      <td>Maharashtra</td>\n",
       "      <td>India</td>\n",
       "    </tr>\n",
       "    <tr>\n",
       "      <th>2</th>\n",
       "      <td>1</td>\n",
       "      <td>CPU</td>\n",
       "      <td>8</td>\n",
       "      <td>Intel Xeon E5-1650 V4</td>\n",
       "      <td>Speed:3.6GHz,Cores:6,TDP:140W</td>\n",
       "      <td>Speed:3.6GHz</td>\n",
       "      <td>Cores:6</td>\n",
       "      <td>TDP:140W</td>\n",
       "      <td>NaN</td>\n",
       "      <td>535.47</td>\n",
       "      <td>...</td>\n",
       "      <td>2</td>\n",
       "      <td>6</td>\n",
       "      <td>2</td>\n",
       "      <td>97</td>\n",
       "      <td>San Francisco</td>\n",
       "      <td>2011 Interiors Blvd</td>\n",
       "      <td>99236</td>\n",
       "      <td>South San Francisco</td>\n",
       "      <td>California</td>\n",
       "      <td>United States of America</td>\n",
       "    </tr>\n",
       "    <tr>\n",
       "      <th>3</th>\n",
       "      <td>1</td>\n",
       "      <td>CPU</td>\n",
       "      <td>8</td>\n",
       "      <td>Intel Xeon E5-1650 V4</td>\n",
       "      <td>Speed:3.6GHz,Cores:6,TDP:140W</td>\n",
       "      <td>Speed:3.6GHz</td>\n",
       "      <td>Cores:6</td>\n",
       "      <td>TDP:140W</td>\n",
       "      <td>NaN</td>\n",
       "      <td>535.47</td>\n",
       "      <td>...</td>\n",
       "      <td>2</td>\n",
       "      <td>8</td>\n",
       "      <td>4</td>\n",
       "      <td>67</td>\n",
       "      <td>Seattle, Washington</td>\n",
       "      <td>2004 Charade Rd</td>\n",
       "      <td>98199</td>\n",
       "      <td>Seattle</td>\n",
       "      <td>Washington</td>\n",
       "      <td>United States of America</td>\n",
       "    </tr>\n",
       "    <tr>\n",
       "      <th>4</th>\n",
       "      <td>1</td>\n",
       "      <td>CPU</td>\n",
       "      <td>8</td>\n",
       "      <td>Intel Xeon E5-1650 V4</td>\n",
       "      <td>Speed:3.6GHz,Cores:6,TDP:140W</td>\n",
       "      <td>Speed:3.6GHz</td>\n",
       "      <td>Cores:6</td>\n",
       "      <td>TDP:140W</td>\n",
       "      <td>NaN</td>\n",
       "      <td>535.47</td>\n",
       "      <td>...</td>\n",
       "      <td>3</td>\n",
       "      <td>13</td>\n",
       "      <td>6</td>\n",
       "      <td>30</td>\n",
       "      <td>Sydney</td>\n",
       "      <td>12-98 Victoria Street</td>\n",
       "      <td>2901</td>\n",
       "      <td>Sydney</td>\n",
       "      <td>New South Wales</td>\n",
       "      <td>Australia</td>\n",
       "    </tr>\n",
       "  </tbody>\n",
       "</table>\n",
       "<p>5 rows × 22 columns</p>\n",
       "</div>"
      ],
      "text/plain": [
       "   CATEGORY_ID CATEGORY_NAME  PRODUCT_ID           PRODUCT_NAME  \\\n",
       "0            1           CPU           8  Intel Xeon E5-1650 V4   \n",
       "1            1           CPU           8  Intel Xeon E5-1650 V4   \n",
       "2            1           CPU           8  Intel Xeon E5-1650 V4   \n",
       "3            1           CPU           8  Intel Xeon E5-1650 V4   \n",
       "4            1           CPU           8  Intel Xeon E5-1650 V4   \n",
       "\n",
       "                     DESCRIPTION DESCRIPTION - Detail 1  \\\n",
       "0  Speed:3.6GHz,Cores:6,TDP:140W           Speed:3.6GHz   \n",
       "1  Speed:3.6GHz,Cores:6,TDP:140W           Speed:3.6GHz   \n",
       "2  Speed:3.6GHz,Cores:6,TDP:140W           Speed:3.6GHz   \n",
       "3  Speed:3.6GHz,Cores:6,TDP:140W           Speed:3.6GHz   \n",
       "4  Speed:3.6GHz,Cores:6,TDP:140W           Speed:3.6GHz   \n",
       "\n",
       "  DESCRIPTION - Detail 2 DESCRIPTION - Detail 3 DESCRIPTION - Detail 4  \\\n",
       "0                Cores:6               TDP:140W                    NaN   \n",
       "1                Cores:6               TDP:140W                    NaN   \n",
       "2                Cores:6               TDP:140W                    NaN   \n",
       "3                Cores:6               TDP:140W                    NaN   \n",
       "4                Cores:6               TDP:140W                    NaN   \n",
       "\n",
       "   STANDARD_COST  ...  REGION_ID LOCATION_ID  WAREHOUSE_ID  QUANTITY  \\\n",
       "0         535.47  ...          3          11             8        50   \n",
       "1         535.47  ...          3          12             9        36   \n",
       "2         535.47  ...          2           6             2        97   \n",
       "3         535.47  ...          2           8             4        67   \n",
       "4         535.47  ...          3          13             6        30   \n",
       "\n",
       "        WAREHOUSE_NAME                ADDRESS POSTAL_CODE  \\\n",
       "0              Beijing    40-5-12 Laogianggen      190518   \n",
       "1               Bombay     1298 Vileparle (E)      490231   \n",
       "2        San Francisco    2011 Interiors Blvd       99236   \n",
       "3  Seattle, Washington        2004 Charade Rd       98199   \n",
       "4               Sydney  12-98 Victoria Street        2901   \n",
       "\n",
       "                  CITY            STATE              COUNTRY_NAME  \n",
       "0              Beijing         Shenzhen                     China  \n",
       "1               Bombay      Maharashtra                     India  \n",
       "2  South San Francisco       California  United States of America  \n",
       "3              Seattle       Washington  United States of America  \n",
       "4               Sydney  New South Wales                 Australia  \n",
       "\n",
       "[5 rows x 22 columns]"
      ]
     },
     "execution_count": 5,
     "metadata": {},
     "output_type": "execute_result"
    }
   ],
   "source": [
    "df=pd.read_csv('hardwareStore.csv')\n",
    "df.head()"
   ]
  },
  {
   "cell_type": "markdown",
   "id": "f7fd448a",
   "metadata": {},
   "source": [
    "# removing some unwanted  columns"
   ]
  },
  {
   "cell_type": "code",
   "execution_count": 14,
   "id": "12c91d36",
   "metadata": {},
   "outputs": [],
   "source": [
    "df=df.drop(['LIST_PRICE','COUNTRY_ID'],axis=1)\n",
    "df.to_excel(\"computer hardware sales.xlsx\",index=False)"
   ]
  },
  {
   "cell_type": "markdown",
   "id": "13569f31",
   "metadata": {},
   "source": [
    "# new dataset  is  computer hardware sales.xlsx"
   ]
  },
  {
   "cell_type": "code",
   "execution_count": 16,
   "id": "4c10aa55",
   "metadata": {},
   "outputs": [
    {
     "data": {
      "text/plain": [
       "CATEGORY_NAME      object\n",
       "PRODUCT_NAME       object\n",
       "DESCRIPTION        object\n",
       "STANDARD_COST     float64\n",
       "QUANTITY            int64\n",
       "WAREHOUSE_NAME     object\n",
       "CITY               object\n",
       "STATE              object\n",
       "COUNTRY_NAME       object\n",
       "dtype: object"
      ]
     },
     "execution_count": 16,
     "metadata": {},
     "output_type": "execute_result"
    }
   ],
   "source": [
    "df=pd.read_excel('computer hardware sales.xlsx')\n",
    "df.dtypes"
   ]
  },
  {
   "cell_type": "markdown",
   "id": "0aa6cc4c",
   "metadata": {},
   "source": [
    "# Let's find which product category had the most sales and show it using a pie chart"
   ]
  },
  {
   "cell_type": "code",
   "execution_count": 19,
   "id": "bf3a7db5",
   "metadata": {},
   "outputs": [
    {
     "name": "stdout",
     "output_type": "stream",
     "text": [
      "A Products belongs to one of this 4 categories..\n",
      "\n",
      "CPU\n",
      "Video Card\n",
      "Mother Board\n",
      "Storage\n"
     ]
    }
   ],
   "source": [
    "categories=df['CATEGORY_NAME'].unique()\n",
    "print(f\"A Products belongs to one of this {len(categories)} categories..\\n\")\n",
    "for  category in categories:\n",
    "    print(category)"
   ]
  },
  {
   "cell_type": "code",
   "execution_count": 21,
   "id": "b1c9ae23",
   "metadata": {},
   "outputs": [],
   "source": [
    "#first let's add a totals column to our dataframe\n",
    "\n",
    "df['total']=df['QUANTITY']*df['STANDARD_COST']\n",
    "df.to_excel('computer hardware sales.xlsx',index=False)"
   ]
  },
  {
   "cell_type": "code",
   "execution_count": 24,
   "id": "b3c0571c",
   "metadata": {},
   "outputs": [
    {
     "data": {
      "text/plain": [
       "CATEGORY_NAME      object\n",
       "PRODUCT_NAME       object\n",
       "DESCRIPTION        object\n",
       "STANDARD_COST     float64\n",
       "QUANTITY            int64\n",
       "WAREHOUSE_NAME     object\n",
       "CITY               object\n",
       "STATE              object\n",
       "COUNTRY_NAME       object\n",
       "total             float64\n",
       "dtype: object"
      ]
     },
     "execution_count": 24,
     "metadata": {},
     "output_type": "execute_result"
    }
   ],
   "source": [
    "df.dtypes"
   ]
  },
  {
   "cell_type": "code",
   "execution_count": 29,
   "id": "26b75a45",
   "metadata": {},
   "outputs": [
    {
     "name": "stdout",
     "output_type": "stream",
     "text": [
      "Total CPU sales were 19651362.04000001\n",
      "Total storage devices sales were 21558470.67\n",
      "Total Mother boards sales were 5004674.710000001\n",
      "Total Video card sales were 39612324.97999996\n"
     ]
    }
   ],
   "source": [
    "#let's find total sales in each category\n",
    "cpu=0\n",
    "storage=0\n",
    "mother_board=0\n",
    "video_cards=0\n",
    "\n",
    "for i in range(len(df)):\n",
    "    if df.loc[i].CATEGORY_NAME==\"CPU\":\n",
    "        cpu+=df.loc[i].total\n",
    "    elif df.loc[i].CATEGORY_NAME==\"Storage\":\n",
    "        storage+=df.loc[i].total\n",
    "    elif df.loc[i].CATEGORY_NAME==\"Video Card\":\n",
    "        video_cards+=df.loc[i].total\n",
    "    elif df.loc[i].CATEGORY_NAME==\"Mother Board\":\n",
    "        mother_board+=df.loc[i].total\n",
    "        \n",
    "print(f\"Total CPU sales were {cpu}\")\n",
    "print(f\"Total storage devices sales were {storage}\")\n",
    "print(f\"Total Mother boards sales were {mother_board}\")\n",
    "print(f\"Total Video card sales were {video_cards}\")"
   ]
  },
  {
   "cell_type": "code",
   "execution_count": null,
   "id": "81f436fd",
   "metadata": {},
   "outputs": [],
   "source": [
    "#Bellow is a pie chart showing how various product categories competed on sales mades \n"
   ]
  },
  {
   "cell_type": "code",
   "execution_count": 31,
   "id": "d77661f2",
   "metadata": {},
   "outputs": [
    {
     "data": {
      "image/png": "[encoded data removed]",
      "text/plain": [
       "<Figure size 640x480 with 1 Axes>"
      ]
     },
     "metadata": {},
     "output_type": "display_data"
    }
   ],
   "source": [
    "labels=[\"Storage Devices\",\"CPUs\",\"Video Cards\",\"mother boards\"]\n",
    "sizes=[storage,cpu,video_cards,mother_board]\n",
    "pyplot.pie(\n",
    "    sizes,\n",
    "    labels=labels\n",
    "    ,autopct='%1.f%%',counterclock=False,startangle=45)\n",
    "pyplot.show()"
   ]
  },
  {
   "cell_type": "markdown",
   "id": "4b24d0cc",
   "metadata": {},
   "source": [
    "# Let's see how various product categories sold in various countries ,starting  with China"
   ]
  },
  {
   "cell_type": "code",
   "execution_count": 34,
   "id": "2c97f3e3",
   "metadata": {},
   "outputs": [
    {
     "name": "stdout",
     "output_type": "stream",
     "text": [
      "China\n",
      "India\n",
      "United States of America\n",
      "Australia\n",
      "Canada\n",
      "Mexico\n"
     ]
    }
   ],
   "source": [
    "countries=df['COUNTRY_NAME'].unique()\n",
    "for c in countries:\n",
    "    print(c)"
   ]
  },
  {
   "cell_type": "code",
   "execution_count": 36,
   "id": "ebcd49a6",
   "metadata": {},
   "outputs": [
    {
     "name": "stdout",
     "output_type": "stream",
     "text": [
      "Total CPU sales in china were  2422261.45\n",
      "Total storage devices sales in china were 2519737.74\n",
      "Total Mother boards sales in china were 733699.1399999999\n",
      "Total Video card sales in china were 2548010.06\n"
     ]
    }
   ],
   "source": [
    "cpu=0\n",
    "storage=0\n",
    "mother_board=0\n",
    "video_cards=0\n",
    "for i in range(len(df)):\n",
    "      if df.loc[i].COUNTRY_NAME==\"China\":\n",
    "                if df.loc[i].CATEGORY_NAME==\"CPU\":\n",
    "                     cpu+=df.loc[i].total\n",
    "                elif df.loc[i].CATEGORY_NAME==\"Storage\":\n",
    "                     storage+=df.loc[i].total\n",
    "                elif df.loc[i].CATEGORY_NAME==\"Video Card\":\n",
    "                    video_cards+=df.loc[i].total\n",
    "                elif df.loc[i].CATEGORY_NAME==\"Mother Board\":\n",
    "                    mother_board+=df.loc[i].total\n",
    "                    \n",
    "print(f\"Total CPU sales in china were  {cpu}\")\n",
    "print(f\"Total storage devices sales in china were {storage}\")\n",
    "print(f\"Total Mother boards sales in china were {mother_board}\")\n",
    "print(f\"Total Video card sales in china were {video_cards}\")"
   ]
  },
  {
   "cell_type": "code",
   "execution_count": 37,
   "id": "8579062e",
   "metadata": {},
   "outputs": [
    {
     "data": {
      "image/png": "[encoded data removed]",
      "text/plain": [
       "<Figure size 640x480 with 1 Axes>"
      ]
     },
     "metadata": {},
     "output_type": "display_data"
    }
   ],
   "source": [
    "##Bellow is a piechart on showing how various product categories sold in china\n",
    "\n",
    "labels=[\"Storage Devices\",\"CPUs\",\"Video Cards\",\"mother boards\"]\n",
    "sizes=[storage,cpu,video_cards,mother_board]\n",
    "pyplot.pie(\n",
    "    sizes,\n",
    "    labels=labels\n",
    "    ,autopct='%1.f%%',counterclock=False,startangle=45)\n",
    "pyplot.show()"
   ]
  }
 ],
 "metadata": {
  "kernelspec": {
   "display_name": "Python 3 (ipykernel)",
   "language": "python",
   "name": "python3"
  },
  "language_info": {
   "codemirror_mode": {
    "name": "ipython",
    "version": 3
   },
   "file_extension": ".py",
   "mimetype": "text/x-python",
   "name": "python",
   "nbconvert_exporter": "python",
   "pygments_lexer": "ipython3",
   "version": "3.11.0"
  }
 },
 "nbformat": 4,
 "nbformat_minor": 5
}
