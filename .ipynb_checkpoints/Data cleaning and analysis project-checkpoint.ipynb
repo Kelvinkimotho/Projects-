{
 "cells": [
  {
   "cell_type": "code",
   "execution_count": null,
   "id": "c068fd99",
   "metadata": {},
   "outputs": [],
   "source": [
    "#In this project ,i'll start by cleaning sales data from a local company\n",
    "#After cleaning the data, i'll proceed to the next stage (analysis and visualization)\n",
    "\n"
   ]
  },
  {
   "cell_type": "code",
   "execution_count": 13,
   "id": "3e1cbeee",
   "metadata": {},
   "outputs": [
    {
     "name": "stdout",
     "output_type": "stream",
     "text": [
      "Sales_April_2019.csv\n",
      "Sales_August_2019.csv\n",
      "Sales_December_2019.csv\n",
      "Sales_February_2019.csv\n",
      "Sales_January_2019.csv\n",
      "Sales_July_2019.csv\n",
      "Sales_June_2019.csv\n",
      "Sales_March_2019.csv\n",
      "Sales_May_2019.csv\n",
      "Sales_November_2019.csv\n",
      "Sales_October_2019.csv\n",
      "Sales_September_2019.csv\n"
     ]
    }
   ],
   "source": [
    "#Fetching the CSV files in my computer using python programming and it's modules\n",
    "import os\n",
    "import pandas as pd\n",
    "#path to the files location\n",
    "\n",
    "path='C:/Users/kelvin/Desktop/data_cleaning/uncleaned_data' \n",
    "\n",
    "#fetching the files  and merging them\n",
    "\n",
    "\n",
    "#Bellow is a list of all the files/ monthly data files\n",
    "files=[file for file in os.listdir(path)]\n",
    "#This are the files to be merged\n",
    "for file in files:\n",
    "     print(file)"
   ]
  },
  {
   "cell_type": "code",
   "execution_count": 15,
   "id": "3a596a70",
   "metadata": {},
   "outputs": [],
   "source": [
    "#since each file contains monthly sales data . we have to merge all files to come up with a single file with annual sales data\n",
    "\n",
    "#lets store the merged files in the bellow file\n",
    "combined_data=pd.DataFrame()\n",
    "\n",
    "#Lets now loop through the files list ,read each file and concatinate it with the combined_data\n",
    "\n",
    "for file in files:\n",
    "    df=pd.read_csv(path+\"/\"+file)\n",
    "    combined_data=pd.concat([df,combined_data])\n",
    "    \n",
    "    #Lets save the merged file  as \"merged sales data.csv\"\n",
    "    combined_data.to_csv('merged sales data.csv',index=False)"
   ]
  },
  {
   "cell_type": "code",
   "execution_count": 24,
   "id": "3f8b4eeb",
   "metadata": {},
   "outputs": [
    {
     "name": "stdout",
     "output_type": "stream",
     "text": [
      "Sales_April_2019.csv\n",
      "Sales_August_2019.csv\n",
      "Sales_December_2019.csv\n",
      "Sales_February_2019.csv\n",
      "Sales_January_2019.csv\n",
      "Sales_July_2019.csv\n",
      "Sales_June_2019.csv\n",
      "Sales_March_2019.csv\n",
      "Sales_May_2019.csv\n",
      "Sales_November_2019.csv\n",
      "Sales_October_2019.csv\n",
      "Sales_September_2019.csv\n"
     ]
    }
   ],
   "source": [
    "#Now lets see the merged file with all months data\n",
    "\n",
    "for file in files:\n",
    "    print(file)"
   ]
  }
 ],
 "metadata": {
  "kernelspec": {
   "display_name": "Python 3 (ipykernel)",
   "language": "python",
   "name": "python3"
  },
  "language_info": {
   "codemirror_mode": {
    "name": "ipython",
    "version": 3
   },
   "file_extension": ".py",
   "mimetype": "text/x-python",
   "name": "python",
   "nbconvert_exporter": "python",
   "pygments_lexer": "ipython3",
   "version": "3.11.0"
  }
 },
 "nbformat": 4,
 "nbformat_minor": 5
}
