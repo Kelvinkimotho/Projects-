{
 "cells": [
  {
   "cell_type": "markdown",
   "id": "ff5f8ee2",
   "metadata": {},
   "source": [
    "# Start by importing the necessary modules that i will be using in this project"
   ]
  },
  {
   "cell_type": "code",
   "execution_count": 3,
   "id": "b1555401",
   "metadata": {},
   "outputs": [],
   "source": [
    "import pandas as pd\n",
    "import os\n",
    "import matplotlib.pyplot as plt\n"
   ]
  },
  {
   "cell_type": "markdown",
   "id": "8b12f663",
   "metadata": {},
   "source": [
    "# looking for datasets available in the working folder"
   ]
  },
  {
   "cell_type": "code",
   "execution_count": 4,
   "id": "85b91908",
   "metadata": {},
   "outputs": [
    {
     "name": "stdout",
     "output_type": "stream",
     "text": [
      "05 sales data.xlsx\n",
      "06 sales data.xlsx\n",
      "07 sales data.xlsx\n",
      "08 sales data.xlsx\n",
      "09 sales data.xlsx\n",
      "10 sales data.xlsx\n",
      "11 sales data.xlsx\n",
      "12 sales data.xlsx\n"
     ]
    }
   ],
   "source": [
    "path='C:/Users/kelvin/Desktop/monthly'\n",
    "files=[file for file in os.listdir(path)]\n",
    "excel_files=[]# a list of all datasets i'll be working with\n",
    "for file  in files:\n",
    "    if \".xlsx\" in file:\n",
    "        excel_files.append(file)\n",
    "        print(file)"
   ]
  },
  {
   "cell_type": "markdown",
   "id": "df10632d",
   "metadata": {},
   "source": [
    "# merging all the excel files to come up with one file "
   ]
  },
  {
   "cell_type": "code",
   "execution_count": 8,
   "id": "667fcb25",
   "metadata": {},
   "outputs": [],
   "source": [
    "all_data=pd.DataFrame()# the finall dataframe after merging all the data frames\n",
    "for file in excel_files:\n",
    "    df=pd.read_excel(file)\n",
    "    all_data=pd.concat([all_data,df])# concatinating all the dataframes to one\n",
    "    all_data.to_excel(\"all sales .xlsx\",index=False) #saving the final dataframe"
   ]
  },
  {
   "cell_type": "markdown",
   "id": "e3491854",
   "metadata": {},
   "source": [
    "# let's now work with \"all sales.xlsx\""
   ]
  },
  {
   "cell_type": "code",
   "execution_count": 9,
   "id": "3923ec47",
   "metadata": {},
   "outputs": [
    {
     "data": {
      "text/html": [
       "<div>\n",
       "<style scoped>\n",
       "    .dataframe tbody tr th:only-of-type {\n",
       "        vertical-align: middle;\n",
       "    }\n",
       "\n",
       "    .dataframe tbody tr th {\n",
       "        vertical-align: top;\n",
       "    }\n",
       "\n",
       "    .dataframe thead th {\n",
       "        text-align: right;\n",
       "    }\n",
       "</style>\n",
       "<table border=\"1\" class=\"dataframe\">\n",
       "  <thead>\n",
       "    <tr style=\"text-align: right;\">\n",
       "      <th></th>\n",
       "      <th>Product</th>\n",
       "      <th>Order Date</th>\n",
       "      <th>Purchase Address</th>\n",
       "      <th>price</th>\n",
       "      <th>order_id</th>\n",
       "      <th>quantity_ordered</th>\n",
       "      <th>order_date</th>\n",
       "      <th>month</th>\n",
       "    </tr>\n",
       "  </thead>\n",
       "  <tbody>\n",
       "    <tr>\n",
       "      <th>0</th>\n",
       "      <td>Wired Headphones</td>\n",
       "      <td>05/16/19 17:14</td>\n",
       "      <td>669 2nd St, New York City, NY 10001</td>\n",
       "      <td>11.99</td>\n",
       "      <td>194095</td>\n",
       "      <td>1</td>\n",
       "      <td>05/16/19 17:14</td>\n",
       "      <td>5</td>\n",
       "    </tr>\n",
       "    <tr>\n",
       "      <th>1</th>\n",
       "      <td>AA Batteries (4-pack)</td>\n",
       "      <td>05/19/19 14:43</td>\n",
       "      <td>844 Walnut St, Dallas, TX 75001</td>\n",
       "      <td>3.84</td>\n",
       "      <td>194096</td>\n",
       "      <td>1</td>\n",
       "      <td>05/19/19 14:43</td>\n",
       "      <td>5</td>\n",
       "    </tr>\n",
       "    <tr>\n",
       "      <th>2</th>\n",
       "      <td>27in FHD Monitor</td>\n",
       "      <td>05/24/19 11:36</td>\n",
       "      <td>164 Madison St, New York City, NY 10001</td>\n",
       "      <td>149.99</td>\n",
       "      <td>194097</td>\n",
       "      <td>1</td>\n",
       "      <td>05/24/19 11:36</td>\n",
       "      <td>5</td>\n",
       "    </tr>\n",
       "    <tr>\n",
       "      <th>3</th>\n",
       "      <td>Wired Headphones</td>\n",
       "      <td>05/02/19 20:40</td>\n",
       "      <td>622 Meadow St, Dallas, TX 75001</td>\n",
       "      <td>11.99</td>\n",
       "      <td>194098</td>\n",
       "      <td>1</td>\n",
       "      <td>05/02/19 20:40</td>\n",
       "      <td>5</td>\n",
       "    </tr>\n",
       "    <tr>\n",
       "      <th>4</th>\n",
       "      <td>AAA Batteries (4-pack)</td>\n",
       "      <td>05/11/19 22:55</td>\n",
       "      <td>17 Church St, Seattle, WA 98101</td>\n",
       "      <td>2.99</td>\n",
       "      <td>194099</td>\n",
       "      <td>2</td>\n",
       "      <td>05/11/19 22:55</td>\n",
       "      <td>5</td>\n",
       "    </tr>\n",
       "  </tbody>\n",
       "</table>\n",
       "</div>"
      ],
      "text/plain": [
       "                  Product      Order Date  \\\n",
       "0        Wired Headphones  05/16/19 17:14   \n",
       "1   AA Batteries (4-pack)  05/19/19 14:43   \n",
       "2        27in FHD Monitor  05/24/19 11:36   \n",
       "3        Wired Headphones  05/02/19 20:40   \n",
       "4  AAA Batteries (4-pack)  05/11/19 22:55   \n",
       "\n",
       "                          Purchase Address   price  order_id  \\\n",
       "0      669 2nd St, New York City, NY 10001   11.99    194095   \n",
       "1          844 Walnut St, Dallas, TX 75001    3.84    194096   \n",
       "2  164 Madison St, New York City, NY 10001  149.99    194097   \n",
       "3          622 Meadow St, Dallas, TX 75001   11.99    194098   \n",
       "4          17 Church St, Seattle, WA 98101    2.99    194099   \n",
       "\n",
       "   quantity_ordered      order_date  month  \n",
       "0                 1  05/16/19 17:14      5  \n",
       "1                 1  05/19/19 14:43      5  \n",
       "2                 1  05/24/19 11:36      5  \n",
       "3                 1  05/02/19 20:40      5  \n",
       "4                 2  05/11/19 22:55      5  "
      ]
     },
     "execution_count": 9,
     "metadata": {},
     "output_type": "execute_result"
    }
   ],
   "source": [
    "df=pd.read_excel('all sales .xlsx')\n",
    "df.head()"
   ]
  },
  {
   "cell_type": "markdown",
   "id": "30ec0870",
   "metadata": {},
   "source": [
    "# adding some additional columns ie .total, city and street"
   ]
  },
  {
   "cell_type": "code",
   "execution_count": 14,
   "id": "9f0d208f",
   "metadata": {},
   "outputs": [],
   "source": [
    "#total column\n",
    "df['Total']=df['price']*df['quantity_ordered']\n",
    "#city column\n",
    "df['city']=df['Purchase Address'].astype(str).apply(lambda x:x.split(\",\")[1])\n",
    "#street column\n",
    "df['street']=df['Purchase Address'].astype(str).apply(lambda x:x.split(\",\")[0]).astype(str).apply(lambda y:y.split(\" \")[1])\n",
    "#saving our new dataset\n",
    "df.to_excel(\"all sales .xlsx\",index=False)"
   ]
  },
  {
   "cell_type": "code",
   "execution_count": 16,
   "id": "eaf68144",
   "metadata": {},
   "outputs": [
    {
     "data": {
      "text/html": [
       "<div>\n",
       "<style scoped>\n",
       "    .dataframe tbody tr th:only-of-type {\n",
       "        vertical-align: middle;\n",
       "    }\n",
       "\n",
       "    .dataframe tbody tr th {\n",
       "        vertical-align: top;\n",
       "    }\n",
       "\n",
       "    .dataframe thead th {\n",
       "        text-align: right;\n",
       "    }\n",
       "</style>\n",
       "<table border=\"1\" class=\"dataframe\">\n",
       "  <thead>\n",
       "    <tr style=\"text-align: right;\">\n",
       "      <th></th>\n",
       "      <th>Product</th>\n",
       "      <th>Order Date</th>\n",
       "      <th>Purchase Address</th>\n",
       "      <th>price</th>\n",
       "      <th>order_id</th>\n",
       "      <th>quantity_ordered</th>\n",
       "      <th>order_date</th>\n",
       "      <th>month</th>\n",
       "      <th>Total</th>\n",
       "      <th>city</th>\n",
       "      <th>street</th>\n",
       "    </tr>\n",
       "  </thead>\n",
       "  <tbody>\n",
       "    <tr>\n",
       "      <th>0</th>\n",
       "      <td>Wired Headphones</td>\n",
       "      <td>05/16/19 17:14</td>\n",
       "      <td>669 2nd St, New York City, NY 10001</td>\n",
       "      <td>11.99</td>\n",
       "      <td>194095</td>\n",
       "      <td>1</td>\n",
       "      <td>05/16/19 17:14</td>\n",
       "      <td>5</td>\n",
       "      <td>11.99</td>\n",
       "      <td>New York City</td>\n",
       "      <td>2nd</td>\n",
       "    </tr>\n",
       "    <tr>\n",
       "      <th>1</th>\n",
       "      <td>AA Batteries (4-pack)</td>\n",
       "      <td>05/19/19 14:43</td>\n",
       "      <td>844 Walnut St, Dallas, TX 75001</td>\n",
       "      <td>3.84</td>\n",
       "      <td>194096</td>\n",
       "      <td>1</td>\n",
       "      <td>05/19/19 14:43</td>\n",
       "      <td>5</td>\n",
       "      <td>3.84</td>\n",
       "      <td>Dallas</td>\n",
       "      <td>Walnut</td>\n",
       "    </tr>\n",
       "    <tr>\n",
       "      <th>2</th>\n",
       "      <td>27in FHD Monitor</td>\n",
       "      <td>05/24/19 11:36</td>\n",
       "      <td>164 Madison St, New York City, NY 10001</td>\n",
       "      <td>149.99</td>\n",
       "      <td>194097</td>\n",
       "      <td>1</td>\n",
       "      <td>05/24/19 11:36</td>\n",
       "      <td>5</td>\n",
       "      <td>149.99</td>\n",
       "      <td>New York City</td>\n",
       "      <td>Madison</td>\n",
       "    </tr>\n",
       "    <tr>\n",
       "      <th>3</th>\n",
       "      <td>Wired Headphones</td>\n",
       "      <td>05/02/19 20:40</td>\n",
       "      <td>622 Meadow St, Dallas, TX 75001</td>\n",
       "      <td>11.99</td>\n",
       "      <td>194098</td>\n",
       "      <td>1</td>\n",
       "      <td>05/02/19 20:40</td>\n",
       "      <td>5</td>\n",
       "      <td>11.99</td>\n",
       "      <td>Dallas</td>\n",
       "      <td>Meadow</td>\n",
       "    </tr>\n",
       "    <tr>\n",
       "      <th>4</th>\n",
       "      <td>AAA Batteries (4-pack)</td>\n",
       "      <td>05/11/19 22:55</td>\n",
       "      <td>17 Church St, Seattle, WA 98101</td>\n",
       "      <td>2.99</td>\n",
       "      <td>194099</td>\n",
       "      <td>2</td>\n",
       "      <td>05/11/19 22:55</td>\n",
       "      <td>5</td>\n",
       "      <td>5.98</td>\n",
       "      <td>Seattle</td>\n",
       "      <td>Church</td>\n",
       "    </tr>\n",
       "  </tbody>\n",
       "</table>\n",
       "</div>"
      ],
      "text/plain": [
       "                  Product      Order Date  \\\n",
       "0        Wired Headphones  05/16/19 17:14   \n",
       "1   AA Batteries (4-pack)  05/19/19 14:43   \n",
       "2        27in FHD Monitor  05/24/19 11:36   \n",
       "3        Wired Headphones  05/02/19 20:40   \n",
       "4  AAA Batteries (4-pack)  05/11/19 22:55   \n",
       "\n",
       "                          Purchase Address   price  order_id  \\\n",
       "0      669 2nd St, New York City, NY 10001   11.99    194095   \n",
       "1          844 Walnut St, Dallas, TX 75001    3.84    194096   \n",
       "2  164 Madison St, New York City, NY 10001  149.99    194097   \n",
       "3          622 Meadow St, Dallas, TX 75001   11.99    194098   \n",
       "4          17 Church St, Seattle, WA 98101    2.99    194099   \n",
       "\n",
       "   quantity_ordered      order_date  month   Total            city   street  \n",
       "0                 1  05/16/19 17:14      5   11.99   New York City      2nd  \n",
       "1                 1  05/19/19 14:43      5    3.84          Dallas   Walnut  \n",
       "2                 1  05/24/19 11:36      5  149.99   New York City  Madison  \n",
       "3                 1  05/02/19 20:40      5   11.99          Dallas   Meadow  \n",
       "4                 2  05/11/19 22:55      5    5.98         Seattle   Church  "
      ]
     },
     "execution_count": 16,
     "metadata": {},
     "output_type": "execute_result"
    }
   ],
   "source": [
    "##Here is the new look of our dataset\n",
    "df.head()"
   ]
  },
  {
   "cell_type": "markdown",
   "id": "1ba8d686",
   "metadata": {},
   "source": [
    "\n",
    "# finding total sales based on each city"
   ]
  },
  {
   "cell_type": "code",
   "execution_count": 17,
   "id": "67854846",
   "metadata": {},
   "outputs": [
    {
     "name": "stdout",
     "output_type": "stream",
     "text": [
      "New_York_City\n",
      "Dallas\n",
      "Seattle\n",
      "San_Francisco\n",
      "Boston\n",
      "Atlanta\n",
      "Austin\n",
      "Los_Angeles\n",
      "Portland\n"
     ]
    }
   ],
   "source": [
    "#Bellow lines of code replaces whitespaces on city names with underscore in order to use them as variable names\n",
    "df=pd.read_excel(\"all sales .xlsx\")\n",
    "cities=df['city'].unique()\n",
    "city_names=[]\n",
    "for city in cities:\n",
    "    #print(city)\n",
    "    if \" \" in city:\n",
    "        city_name=city.replace(\" \",\"_\")\n",
    "        print(city_name.strip(\"_\"))\n",
    "        city_names.append(city_name.strip(\"_\"))\n",
    "    else:pass\n",
    "    "
   ]
  },
  {
   "cell_type": "code",
   "execution_count": 27,
   "id": "9ba56946",
   "metadata": {},
   "outputs": [
    {
     "name": "stdout",
     "output_type": "stream",
     "text": [
      "New_York_City sales =646771.0sh\n",
      "\n",
      "Dallas sales =380719.0sh\n",
      "\n",
      "Seattle sales =387318.0sh\n",
      "\n",
      "San_Francisco sales =1106601.0sh\n",
      "\n",
      "Boston sales =509599.0sh\n",
      "\n",
      "Atlanta sales =360899.0sh\n",
      "\n",
      "Austin sales =233777.0sh\n",
      "\n",
      "Los_Angeles sales =684045.0sh\n",
      "\n",
      "Portland sales =303714.0sh\n",
      "\n",
      "Total December sales amounted to 4613443.0sh\n"
     ]
    }
   ],
   "source": [
    "#let's initialize each city sales to zero\n",
    "#city_sales_amount=0\n",
    "December_total_sales=0 # sums all the city sales to one\n",
    "city_sales_list=[]#stores each city total sale in a list\n",
    "for city_name in city_names:\n",
    "        city_name_sales=city_name+\"_sales\"\n",
    "        city_name_sales=0\n",
    "        for i in range(len(df)):\n",
    "            if df.loc[i].month==12:\n",
    "                city=df.loc[i].city.replace(\" \",\"_\")\n",
    "                city_real=city.strip(\"_\")\n",
    "                if city_real==city_name:\n",
    "                    city_name_sales+=df.loc[i].Total\n",
    "        December_total_sales+=city_name_sales #adds each city_sale to The total december sales\n",
    "        city_sales_list.append(city_name_sales) #appends each city total sale to the city_sales_list\n",
    "        print(f\"{city_name} sales ={city_name_sales.round()}sh\\n\")\n",
    "        #saving each month sales data in a text file\n",
    "       # with open(\"city_december_sales.txt\",'a') as myfile:\n",
    "         #   myfile.write(f\"{city_name} sales ={city_name_sales.round()}sh\\n\")\n",
    "          #  myfile.close()\n",
    "print(f\"Total December sales amounted to {December_total_sales.round()}sh\")"
   ]
  },
  {
   "cell_type": "code",
   "execution_count": 25,
   "id": "faaac7d9",
   "metadata": {},
   "outputs": [
    {
     "name": "stdout",
     "output_type": "stream",
     "text": [
      "December sales amounted to 4613443.0sh\n"
     ]
    }
   ],
   "source": [
    "#Verifienging whether the sum of individual city sales for the month of December  is equal to the total direct summation for the month of dedember\n",
    "total_dec_sales=0\n",
    "for i in range(len(df)):\n",
    "    if df.loc[i].month==12:\n",
    "        total_dec_sales+=df.loc[i].Total\n",
    "print(f\"December sales amounted to {total_dec_sales.round()}sh\")\n",
    "with open(\"city_december_sales.txt\",'a') as myfile:\n",
    "            myfile.write(f\"\\nDecember sales amounted to {total_dec_sales.round()}sh\\n\")\n",
    "            myfile.close()"
   ]
  },
  {
   "cell_type": "markdown",
   "id": "965ff16c",
   "metadata": {},
   "source": [
    "# Plotting a graph of total december sales for each city , "
   ]
  },
  {
   "cell_type": "code",
   "execution_count": 32,
   "id": "2c9b9086",
   "metadata": {},
   "outputs": [
    {
     "data": {
      "image/png": "[encoded data removed]",
      "text/plain": [
       "<Figure size 640x480 with 1 Axes>"
      ]
     },
     "metadata": {},
     "output_type": "display_data"
    }
   ],
   "source": [
    "#Tried using a bar graph\n",
    "sales=city_sales_list\n",
    "cities=city_names\n",
    "plt.xlabel(\"City Name\")\n",
    "plt.ylabel(\"December sales amount in (Ksh)\")\n",
    "plt.title(\"December sales for Each city\")\n",
    "plt.bar(cities,sales)\n",
    "plt.show()"
   ]
  },
  {
   "cell_type": "code",
   "execution_count": 40,
   "id": "f862c4ad",
   "metadata": {},
   "outputs": [
    {
     "data": {
      "image/png": "[encoded data removed]",
      "text/plain": [
       "<Figure size 640x480 with 1 Axes>"
      ]
     },
     "metadata": {},
     "output_type": "display_data"
    }
   ],
   "source": [
    "##Trying a piechart instead\n",
    "sizes=sales\n",
    "labels=cities\n",
    "plt.title(\"December total sales for Each city\")\n",
    "plt.pie( sizes,labels=labels,autopct='%1.f%%')\n",
    "plt.show()"
   ]
  }
 ],
 "metadata": {
  "kernelspec": {
   "display_name": "Python 3 (ipykernel)",
   "language": "python",
   "name": "python3"
  },
  "language_info": {
   "codemirror_mode": {
    "name": "ipython",
    "version": 3
   },
   "file_extension": ".py",
   "mimetype": "text/x-python",
   "name": "python",
   "nbconvert_exporter": "python",
   "pygments_lexer": "ipython3",
   "version": "3.11.0"
  }
 },
 "nbformat": 4,
 "nbformat_minor": 5
}
