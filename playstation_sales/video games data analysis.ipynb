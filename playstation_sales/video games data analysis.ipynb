{
 "cells": [
  {
   "cell_type": "code",
   "execution_count": 3,
   "id": "7164e2f0",
   "metadata": {},
   "outputs": [],
   "source": [
    "##Importing the neccessary modules\n",
    "import pandas as  pd \n",
    "import matplotlib.pyplot as plt \n",
    "import os\n"
   ]
  },
  {
   "cell_type": "markdown",
   "id": "4fd405ce",
   "metadata": {},
   "source": [
    "# reading the first 10 rows/ games of the dataframe\n",
    "****"
   ]
  },
  {
   "cell_type": "code",
   "execution_count": 15,
   "id": "71463508",
   "metadata": {},
   "outputs": [
    {
     "data": {
      "text/html": [
       "<div>\n",
       "<style scoped>\n",
       "    .dataframe tbody tr th:only-of-type {\n",
       "        vertical-align: middle;\n",
       "    }\n",
       "\n",
       "    .dataframe tbody tr th {\n",
       "        vertical-align: top;\n",
       "    }\n",
       "\n",
       "    .dataframe thead th {\n",
       "        text-align: right;\n",
       "    }\n",
       "</style>\n",
       "<table border=\"1\" class=\"dataframe\">\n",
       "  <thead>\n",
       "    <tr style=\"text-align: right;\">\n",
       "      <th></th>\n",
       "      <th>Game</th>\n",
       "      <th>Genre(s)</th>\n",
       "      <th>Developer(s)</th>\n",
       "      <th>Publisher(s)</th>\n",
       "      <th>Year</th>\n",
       "      <th>month</th>\n",
       "      <th>copies_sold_in(millions)</th>\n",
       "    </tr>\n",
       "  </thead>\n",
       "  <tbody>\n",
       "    <tr>\n",
       "      <th>0</th>\n",
       "      <td>Marvel's Spider-Man</td>\n",
       "      <td>Action-adventure</td>\n",
       "      <td>Insomniac Games</td>\n",
       "      <td>Sony Interactive Entertainment</td>\n",
       "      <td>2018</td>\n",
       "      <td>September</td>\n",
       "      <td>20.00</td>\n",
       "    </tr>\n",
       "    <tr>\n",
       "      <th>1</th>\n",
       "      <td>God of War</td>\n",
       "      <td>Action-adventure hack and slash</td>\n",
       "      <td>Santa Monica Studio</td>\n",
       "      <td>Sony Interactive Entertainment</td>\n",
       "      <td>2018</td>\n",
       "      <td>April</td>\n",
       "      <td>19.50</td>\n",
       "    </tr>\n",
       "    <tr>\n",
       "      <th>2</th>\n",
       "      <td>Uncharted 4: A Thief's End</td>\n",
       "      <td>Action-adventure</td>\n",
       "      <td>Naughty Dog</td>\n",
       "      <td>Sony Interactive Entertainment</td>\n",
       "      <td>2016</td>\n",
       "      <td>May</td>\n",
       "      <td>16.00</td>\n",
       "    </tr>\n",
       "    <tr>\n",
       "      <th>3</th>\n",
       "      <td>The Witcher 3: Wild Hunt</td>\n",
       "      <td>Action role-playing</td>\n",
       "      <td>CD Projekt Red</td>\n",
       "      <td>CD Projekt</td>\n",
       "      <td>2015</td>\n",
       "      <td>May</td>\n",
       "      <td>10.80</td>\n",
       "    </tr>\n",
       "    <tr>\n",
       "      <th>4</th>\n",
       "      <td>The Last of Us Part II</td>\n",
       "      <td>Action-adventure survival horror</td>\n",
       "      <td>Naughty Dog</td>\n",
       "      <td>Sony Interactive Entertainment</td>\n",
       "      <td>2020</td>\n",
       "      <td>June</td>\n",
       "      <td>10.00</td>\n",
       "    </tr>\n",
       "    <tr>\n",
       "      <th>5</th>\n",
       "      <td>Horizon Zero Dawn</td>\n",
       "      <td>Action role-playing</td>\n",
       "      <td>Guerrilla Games</td>\n",
       "      <td>Sony Interactive Entertainment</td>\n",
       "      <td>2017</td>\n",
       "      <td>February</td>\n",
       "      <td>10.00</td>\n",
       "    </tr>\n",
       "    <tr>\n",
       "      <th>6</th>\n",
       "      <td>The Last of Us Remastered</td>\n",
       "      <td>Action-adventure survival horror</td>\n",
       "      <td>Naughty Dog</td>\n",
       "      <td>Sony Computer Entertainment</td>\n",
       "      <td>2014</td>\n",
       "      <td>July</td>\n",
       "      <td>10.00</td>\n",
       "    </tr>\n",
       "    <tr>\n",
       "      <th>7</th>\n",
       "      <td>Ghost of Tsushima</td>\n",
       "      <td>Action-adventure stealth</td>\n",
       "      <td>Sucker Punch Productions</td>\n",
       "      <td>Sony Interactive Entertainment</td>\n",
       "      <td>2020</td>\n",
       "      <td>July</td>\n",
       "      <td>9.73</td>\n",
       "    </tr>\n",
       "    <tr>\n",
       "      <th>8</th>\n",
       "      <td>Star Wars Battlefront</td>\n",
       "      <td>First-person shooter third-person shooter</td>\n",
       "      <td>EA DICE</td>\n",
       "      <td>Electronic Arts</td>\n",
       "      <td>2015</td>\n",
       "      <td>November</td>\n",
       "      <td>8.42</td>\n",
       "    </tr>\n",
       "    <tr>\n",
       "      <th>9</th>\n",
       "      <td>Gran Turismo Sport</td>\n",
       "      <td>Racing</td>\n",
       "      <td>Polyphony Digital</td>\n",
       "      <td>Sony Interactive Entertainment</td>\n",
       "      <td>2017</td>\n",
       "      <td>October</td>\n",
       "      <td>8.00</td>\n",
       "    </tr>\n",
       "  </tbody>\n",
       "</table>\n",
       "</div>"
      ],
      "text/plain": [
       "                         Game                                   Genre(s)  \\\n",
       "0         Marvel's Spider-Man                           Action-adventure   \n",
       "1                  God of War            Action-adventure hack and slash   \n",
       "2  Uncharted 4: A Thief's End                           Action-adventure   \n",
       "3    The Witcher 3: Wild Hunt                        Action role-playing   \n",
       "4      The Last of Us Part II           Action-adventure survival horror   \n",
       "5           Horizon Zero Dawn                        Action role-playing   \n",
       "6   The Last of Us Remastered           Action-adventure survival horror   \n",
       "7           Ghost of Tsushima                   Action-adventure stealth   \n",
       "8       Star Wars Battlefront  First-person shooter third-person shooter   \n",
       "9          Gran Turismo Sport                                     Racing   \n",
       "\n",
       "               Developer(s)                    Publisher(s)  Year      month  \\\n",
       "0           Insomniac Games  Sony Interactive Entertainment  2018  September   \n",
       "1       Santa Monica Studio  Sony Interactive Entertainment  2018      April   \n",
       "2               Naughty Dog  Sony Interactive Entertainment  2016        May   \n",
       "3            CD Projekt Red                      CD Projekt  2015        May   \n",
       "4               Naughty Dog  Sony Interactive Entertainment  2020       June   \n",
       "5           Guerrilla Games  Sony Interactive Entertainment  2017   February   \n",
       "6               Naughty Dog     Sony Computer Entertainment  2014       July   \n",
       "7  Sucker Punch Productions  Sony Interactive Entertainment  2020       July   \n",
       "8                   EA DICE                 Electronic Arts  2015   November   \n",
       "9         Polyphony Digital  Sony Interactive Entertainment  2017    October   \n",
       "\n",
       "   copies_sold_in(millions)  \n",
       "0                     20.00  \n",
       "1                     19.50  \n",
       "2                     16.00  \n",
       "3                     10.80  \n",
       "4                     10.00  \n",
       "5                     10.00  \n",
       "6                     10.00  \n",
       "7                      9.73  \n",
       "8                      8.42  \n",
       "9                      8.00  "
      ]
     },
     "execution_count": 15,
     "metadata": {},
     "output_type": "execute_result"
    }
   ],
   "source": [
    "df=pd.read_excel('List of best-selling PlayStation 4 video games.xlsx')\n",
    "df.head(10)"
   ]
  },
  {
   "cell_type": "markdown",
   "id": "89f62165",
   "metadata": {},
   "source": [
    "# finding how many games  were released in every month"
   ]
  },
  {
   "cell_type": "code",
   "execution_count": 16,
   "id": "99427bfd",
   "metadata": {},
   "outputs": [
    {
     "name": "stdout",
     "output_type": "stream",
     "text": [
      "games releasesd on September  =4\n",
      "games releasesd on April  =2\n",
      "games releasesd on May  =3\n",
      "games releasesd on June  =2\n",
      "games releasesd on February  =3\n",
      "games releasesd on July  =4\n",
      "games releasesd on November  =5\n",
      "games releasesd on October  =4\n",
      "games releasesd on March  =3\n",
      "games releasesd on January  =2\n",
      "games releasesd on December  =1\n",
      "Total games =33\n",
      "length of the games list =11\n"
     ]
    }
   ],
   "source": [
    "df=pd.read_excel('List of best-selling PlayStation 4 video games.xlsx')\n",
    "#finding for all months int the month column \n",
    "months=df['month'].unique()\n",
    "games=[]\n",
    "totalgames=0\n",
    "#looping through the months list\n",
    "for month in months:\n",
    "    #creating a variable 'month_movies' by concatinating month variable with \"_movies\"\n",
    "    month_movies= f\"{month}_movies\"\n",
    "    #initializing month_movies variable to zero\n",
    "    month_movies=0\n",
    "    #looping through all the rows of the dataframe\n",
    "    for i in range(len(df)):\n",
    "        if df.loc[i].month==f\"{month}\":\n",
    "                 #incrementing the month_movies variable with 1\n",
    "                 month_movies+=1\n",
    "    games.append(month_movies)\n",
    "    print(f\"games releasesd on {month}  ={month_movies}\")\n",
    "    #incrementing the total_games variable with one\n",
    "    totalgames+=month_movies\n",
    "print(f\"Total games ={totalgames}\")\n",
    "print(f\"length of the games list ={len(games)}\")"
   ]
  },
  {
   "cell_type": "markdown",
   "id": "28e02043",
   "metadata": {},
   "source": [
    "# piechart plot for each and every month with the number of games produced in that month"
   ]
  },
  {
   "cell_type": "code",
   "execution_count": 18,
   "id": "b8f3c6eb",
   "metadata": {},
   "outputs": [
    {
     "data": {
      "image/png": "[encoded data removed]",
      "text/plain": [
       "<Figure size 640x480 with 1 Axes>"
      ]
     },
     "metadata": {},
     "output_type": "display_data"
    }
   ],
   "source": [
    "sizes=games\n",
    "labels=months\n",
    "plt.pie(sizes,labels=labels,autopct=\"%1.f%%\",counterclock=False,startangle=45)\n",
    "plt.show()"
   ]
  }
 ],
 "metadata": {
  "kernelspec": {
   "display_name": "Python 3 (ipykernel)",
   "language": "python",
   "name": "python3"
  },
  "language_info": {
   "codemirror_mode": {
    "name": "ipython",
    "version": 3
   },
   "file_extension": ".py",
   "mimetype": "text/x-python",
   "name": "python",
   "nbconvert_exporter": "python",
   "pygments_lexer": "ipython3",
   "version": "3.11.0"
  }
 },
 "nbformat": 4,
 "nbformat_minor": 5
}
