{
 "cells": [
  {
   "cell_type": "markdown",
   "id": "888a1d27",
   "metadata": {},
   "source": [
    "# importing modules"
   ]
  },
  {
   "cell_type": "code",
   "execution_count": 1,
   "id": "5d67eea4",
   "metadata": {},
   "outputs": [],
   "source": [
    "import pandas as pd\n",
    "import os\n",
    "import matplotlib.pyplot as plt\n"
   ]
  },
  {
   "cell_type": "markdown",
   "id": "4ffc529c",
   "metadata": {},
   "source": [
    "# reading from the vgsales.csv dataset"
   ]
  },
  {
   "cell_type": "code",
   "execution_count": 4,
   "id": "2f6bd879",
   "metadata": {},
   "outputs": [
    {
     "data": {
      "text/html": [
       "<div>\n",
       "<style scoped>\n",
       "    .dataframe tbody tr th:only-of-type {\n",
       "        vertical-align: middle;\n",
       "    }\n",
       "\n",
       "    .dataframe tbody tr th {\n",
       "        vertical-align: top;\n",
       "    }\n",
       "\n",
       "    .dataframe thead th {\n",
       "        text-align: right;\n",
       "    }\n",
       "</style>\n",
       "<table border=\"1\" class=\"dataframe\">\n",
       "  <thead>\n",
       "    <tr style=\"text-align: right;\">\n",
       "      <th></th>\n",
       "      <th>Rank</th>\n",
       "      <th>Name</th>\n",
       "      <th>Platform</th>\n",
       "      <th>Year</th>\n",
       "      <th>Genre</th>\n",
       "      <th>Publisher</th>\n",
       "      <th>NA_Sales</th>\n",
       "      <th>EU_Sales</th>\n",
       "      <th>JP_Sales</th>\n",
       "      <th>Other_Sales</th>\n",
       "      <th>Global_Sales</th>\n",
       "    </tr>\n",
       "  </thead>\n",
       "  <tbody>\n",
       "    <tr>\n",
       "      <th>0</th>\n",
       "      <td>1</td>\n",
       "      <td>Wii Sports</td>\n",
       "      <td>Wii</td>\n",
       "      <td>2006.0</td>\n",
       "      <td>Sports</td>\n",
       "      <td>Nintendo</td>\n",
       "      <td>41.49</td>\n",
       "      <td>29.02</td>\n",
       "      <td>3.77</td>\n",
       "      <td>8.46</td>\n",
       "      <td>82.74</td>\n",
       "    </tr>\n",
       "    <tr>\n",
       "      <th>1</th>\n",
       "      <td>2</td>\n",
       "      <td>Super Mario Bros.</td>\n",
       "      <td>NES</td>\n",
       "      <td>1985.0</td>\n",
       "      <td>Platform</td>\n",
       "      <td>Nintendo</td>\n",
       "      <td>29.08</td>\n",
       "      <td>3.58</td>\n",
       "      <td>6.81</td>\n",
       "      <td>0.77</td>\n",
       "      <td>40.24</td>\n",
       "    </tr>\n",
       "    <tr>\n",
       "      <th>2</th>\n",
       "      <td>3</td>\n",
       "      <td>Mario Kart Wii</td>\n",
       "      <td>Wii</td>\n",
       "      <td>2008.0</td>\n",
       "      <td>Racing</td>\n",
       "      <td>Nintendo</td>\n",
       "      <td>15.85</td>\n",
       "      <td>12.88</td>\n",
       "      <td>3.79</td>\n",
       "      <td>3.31</td>\n",
       "      <td>35.82</td>\n",
       "    </tr>\n",
       "    <tr>\n",
       "      <th>3</th>\n",
       "      <td>4</td>\n",
       "      <td>Wii Sports Resort</td>\n",
       "      <td>Wii</td>\n",
       "      <td>2009.0</td>\n",
       "      <td>Sports</td>\n",
       "      <td>Nintendo</td>\n",
       "      <td>15.75</td>\n",
       "      <td>11.01</td>\n",
       "      <td>3.28</td>\n",
       "      <td>2.96</td>\n",
       "      <td>33.00</td>\n",
       "    </tr>\n",
       "    <tr>\n",
       "      <th>4</th>\n",
       "      <td>5</td>\n",
       "      <td>Pokemon Red/Pokemon Blue</td>\n",
       "      <td>GB</td>\n",
       "      <td>1996.0</td>\n",
       "      <td>Role-Playing</td>\n",
       "      <td>Nintendo</td>\n",
       "      <td>11.27</td>\n",
       "      <td>8.89</td>\n",
       "      <td>10.22</td>\n",
       "      <td>1.00</td>\n",
       "      <td>31.37</td>\n",
       "    </tr>\n",
       "  </tbody>\n",
       "</table>\n",
       "</div>"
      ],
      "text/plain": [
       "   Rank                      Name Platform    Year         Genre Publisher  \\\n",
       "0     1                Wii Sports      Wii  2006.0        Sports  Nintendo   \n",
       "1     2         Super Mario Bros.      NES  1985.0      Platform  Nintendo   \n",
       "2     3            Mario Kart Wii      Wii  2008.0        Racing  Nintendo   \n",
       "3     4         Wii Sports Resort      Wii  2009.0        Sports  Nintendo   \n",
       "4     5  Pokemon Red/Pokemon Blue       GB  1996.0  Role-Playing  Nintendo   \n",
       "\n",
       "   NA_Sales  EU_Sales  JP_Sales  Other_Sales  Global_Sales  \n",
       "0     41.49     29.02      3.77         8.46         82.74  \n",
       "1     29.08      3.58      6.81         0.77         40.24  \n",
       "2     15.85     12.88      3.79         3.31         35.82  \n",
       "3     15.75     11.01      3.28         2.96         33.00  \n",
       "4     11.27      8.89     10.22         1.00         31.37  "
      ]
     },
     "execution_count": 4,
     "metadata": {},
     "output_type": "execute_result"
    }
   ],
   "source": [
    "df=pd.read_csv(\"vgsales.csv\")\n",
    "df.head()\n"
   ]
  },
  {
   "cell_type": "code",
   "execution_count": 5,
   "id": "df421abc",
   "metadata": {},
   "outputs": [
    {
     "name": "stdout",
     "output_type": "stream",
     "text": [
      "Rank\n",
      "Name\n",
      "Platform\n",
      "Year\n",
      "Genre\n",
      "Publisher\n",
      "NA_Sales\n",
      "EU_Sales\n",
      "JP_Sales\n",
      "Other_Sales\n",
      "Global_Sales\n"
     ]
    }
   ],
   "source": [
    "#lets have a look on how many columns the dataset has\n",
    "columns=df.columns\n",
    "for column in columns:\n",
    "    print(column)"
   ]
  },
  {
   "cell_type": "code",
   "execution_count": 7,
   "id": "0cd0b99c",
   "metadata": {},
   "outputs": [
    {
     "name": "stdout",
     "output_type": "stream",
     "text": [
      "NA_Sales\n",
      "EU_Sales\n",
      "JP_Sales\n",
      "Other_Sales\n",
      "Global_Sales\n"
     ]
    }
   ],
   "source": [
    "#i wish to drop all columns with underscore(_) as a character in the column name\n",
    "#start by creating a  list for storing the target columns after sorting them from the other columns\n",
    "target_columns=[]\n",
    "#looping through the columns , find the target columns and append them to the target_columns list\n",
    "for column in columns:\n",
    "    if \"_\" in column:\n",
    "        print(column)\n",
    "        #appending them \n",
    "        target_columns.append(column)"
   ]
  },
  {
   "cell_type": "code",
   "execution_count": 8,
   "id": "40a92811",
   "metadata": {},
   "outputs": [
    {
     "name": "stdout",
     "output_type": "stream",
     "text": [
      "['NA_Sales', 'EU_Sales', 'JP_Sales', 'Other_Sales', 'Global_Sales']\n"
     ]
    }
   ],
   "source": [
    "#lets see whether the columns have been succesfuly appended into the target list\n",
    "print(target_columns)"
   ]
  },
  {
   "cell_type": "code",
   "execution_count": 11,
   "id": "b4a5f2ac",
   "metadata": {},
   "outputs": [
    {
     "data": {
      "text/html": [
       "<div>\n",
       "<style scoped>\n",
       "    .dataframe tbody tr th:only-of-type {\n",
       "        vertical-align: middle;\n",
       "    }\n",
       "\n",
       "    .dataframe tbody tr th {\n",
       "        vertical-align: top;\n",
       "    }\n",
       "\n",
       "    .dataframe thead th {\n",
       "        text-align: right;\n",
       "    }\n",
       "</style>\n",
       "<table border=\"1\" class=\"dataframe\">\n",
       "  <thead>\n",
       "    <tr style=\"text-align: right;\">\n",
       "      <th></th>\n",
       "      <th>Rank</th>\n",
       "      <th>Name</th>\n",
       "      <th>Platform</th>\n",
       "      <th>Year</th>\n",
       "      <th>Genre</th>\n",
       "      <th>Publisher</th>\n",
       "    </tr>\n",
       "  </thead>\n",
       "  <tbody>\n",
       "    <tr>\n",
       "      <th>0</th>\n",
       "      <td>1</td>\n",
       "      <td>Wii Sports</td>\n",
       "      <td>Wii</td>\n",
       "      <td>2006.0</td>\n",
       "      <td>Sports</td>\n",
       "      <td>Nintendo</td>\n",
       "    </tr>\n",
       "    <tr>\n",
       "      <th>1</th>\n",
       "      <td>2</td>\n",
       "      <td>Super Mario Bros.</td>\n",
       "      <td>NES</td>\n",
       "      <td>1985.0</td>\n",
       "      <td>Platform</td>\n",
       "      <td>Nintendo</td>\n",
       "    </tr>\n",
       "    <tr>\n",
       "      <th>2</th>\n",
       "      <td>3</td>\n",
       "      <td>Mario Kart Wii</td>\n",
       "      <td>Wii</td>\n",
       "      <td>2008.0</td>\n",
       "      <td>Racing</td>\n",
       "      <td>Nintendo</td>\n",
       "    </tr>\n",
       "    <tr>\n",
       "      <th>3</th>\n",
       "      <td>4</td>\n",
       "      <td>Wii Sports Resort</td>\n",
       "      <td>Wii</td>\n",
       "      <td>2009.0</td>\n",
       "      <td>Sports</td>\n",
       "      <td>Nintendo</td>\n",
       "    </tr>\n",
       "    <tr>\n",
       "      <th>4</th>\n",
       "      <td>5</td>\n",
       "      <td>Pokemon Red/Pokemon Blue</td>\n",
       "      <td>GB</td>\n",
       "      <td>1996.0</td>\n",
       "      <td>Role-Playing</td>\n",
       "      <td>Nintendo</td>\n",
       "    </tr>\n",
       "  </tbody>\n",
       "</table>\n",
       "</div>"
      ],
      "text/plain": [
       "   Rank                      Name Platform    Year         Genre Publisher\n",
       "0     1                Wii Sports      Wii  2006.0        Sports  Nintendo\n",
       "1     2         Super Mario Bros.      NES  1985.0      Platform  Nintendo\n",
       "2     3            Mario Kart Wii      Wii  2008.0        Racing  Nintendo\n",
       "3     4         Wii Sports Resort      Wii  2009.0        Sports  Nintendo\n",
       "4     5  Pokemon Red/Pokemon Blue       GB  1996.0  Role-Playing  Nintendo"
      ]
     },
     "execution_count": 11,
     "metadata": {},
     "output_type": "execute_result"
    }
   ],
   "source": [
    "#since the process have succeded , lets drop the columns\n",
    "df2=df.drop(target_columns,axis=1)\n",
    "#lets see several columns of the new dataframe\n",
    "df2.head()\n"
   ]
  },
  {
   "cell_type": "code",
   "execution_count": 12,
   "id": "3ce13a87",
   "metadata": {},
   "outputs": [],
   "source": [
    "#saving the new dataframe as an excel file ,then do some data analysis\n",
    "save_as=\"video games.xlsx\"\n",
    "df2.to_excel(save_as,index=False)"
   ]
  },
  {
   "cell_type": "markdown",
   "id": "526a2520",
   "metadata": {},
   "source": [
    "# Let's try doing some data analysis"
   ]
  },
  {
   "cell_type": "code",
   "execution_count": 14,
   "id": "ec301e03",
   "metadata": {},
   "outputs": [
    {
     "data": {
      "text/html": [
       "<div>\n",
       "<style scoped>\n",
       "    .dataframe tbody tr th:only-of-type {\n",
       "        vertical-align: middle;\n",
       "    }\n",
       "\n",
       "    .dataframe tbody tr th {\n",
       "        vertical-align: top;\n",
       "    }\n",
       "\n",
       "    .dataframe thead th {\n",
       "        text-align: right;\n",
       "    }\n",
       "</style>\n",
       "<table border=\"1\" class=\"dataframe\">\n",
       "  <thead>\n",
       "    <tr style=\"text-align: right;\">\n",
       "      <th></th>\n",
       "      <th>Rank</th>\n",
       "      <th>Name</th>\n",
       "      <th>Platform</th>\n",
       "      <th>Year</th>\n",
       "      <th>Genre</th>\n",
       "      <th>Publisher</th>\n",
       "    </tr>\n",
       "  </thead>\n",
       "  <tbody>\n",
       "    <tr>\n",
       "      <th>0</th>\n",
       "      <td>1</td>\n",
       "      <td>Wii Sports</td>\n",
       "      <td>Wii</td>\n",
       "      <td>2006.0</td>\n",
       "      <td>Sports</td>\n",
       "      <td>Nintendo</td>\n",
       "    </tr>\n",
       "    <tr>\n",
       "      <th>1</th>\n",
       "      <td>2</td>\n",
       "      <td>Super Mario Bros.</td>\n",
       "      <td>NES</td>\n",
       "      <td>1985.0</td>\n",
       "      <td>Platform</td>\n",
       "      <td>Nintendo</td>\n",
       "    </tr>\n",
       "    <tr>\n",
       "      <th>2</th>\n",
       "      <td>3</td>\n",
       "      <td>Mario Kart Wii</td>\n",
       "      <td>Wii</td>\n",
       "      <td>2008.0</td>\n",
       "      <td>Racing</td>\n",
       "      <td>Nintendo</td>\n",
       "    </tr>\n",
       "    <tr>\n",
       "      <th>3</th>\n",
       "      <td>4</td>\n",
       "      <td>Wii Sports Resort</td>\n",
       "      <td>Wii</td>\n",
       "      <td>2009.0</td>\n",
       "      <td>Sports</td>\n",
       "      <td>Nintendo</td>\n",
       "    </tr>\n",
       "    <tr>\n",
       "      <th>4</th>\n",
       "      <td>5</td>\n",
       "      <td>Pokemon Red/Pokemon Blue</td>\n",
       "      <td>GB</td>\n",
       "      <td>1996.0</td>\n",
       "      <td>Role-Playing</td>\n",
       "      <td>Nintendo</td>\n",
       "    </tr>\n",
       "  </tbody>\n",
       "</table>\n",
       "</div>"
      ],
      "text/plain": [
       "   Rank                      Name Platform    Year         Genre Publisher\n",
       "0     1                Wii Sports      Wii  2006.0        Sports  Nintendo\n",
       "1     2         Super Mario Bros.      NES  1985.0      Platform  Nintendo\n",
       "2     3            Mario Kart Wii      Wii  2008.0        Racing  Nintendo\n",
       "3     4         Wii Sports Resort      Wii  2009.0        Sports  Nintendo\n",
       "4     5  Pokemon Red/Pokemon Blue       GB  1996.0  Role-Playing  Nintendo"
      ]
     },
     "execution_count": 14,
     "metadata": {},
     "output_type": "execute_result"
    }
   ],
   "source": [
    "#using the new dataframe with fewer columns\n",
    "data=pd.read_excel(\"video games.xlsx\")\n",
    "data.head()"
   ]
  },
  {
   "cell_type": "markdown",
   "id": "9a963b23",
   "metadata": {},
   "source": [
    "# Answering questions arising from the dataset"
   ]
  },
  {
   "cell_type": "markdown",
   "id": "7609eee2",
   "metadata": {},
   "source": [
    "# 1:How many movies were published in the year 2003"
   ]
  },
  {
   "cell_type": "code",
   "execution_count": 41,
   "id": "e90620f3",
   "metadata": {},
   "outputs": [
    {
     "name": "stdout",
     "output_type": "stream",
     "text": [
      "775 movies were published in the year 2003.0 \n"
     ]
    }
   ],
   "source": [
    "games_2003=0\n",
    "movies_names=[]\n",
    "for i in range(len(data)):\n",
    "    if data.loc[i].Year==2003.0:\n",
    "        #print(data.loc[i].Name)\n",
    "        movies_names.append(data.loc[i].Name)\n",
    "        games_2003+=1\n",
    "if games_2003==1:\n",
    "    print(f\"{games_2003} movie was published in the year {data.loc[i].Year}\")\n",
    "else:\n",
    "    print(f\"{games_2003} movies were published in the year {data.loc[i].Year} \")\n",
    "    \n",
    "#print(len(movies_names))"
   ]
  },
  {
   "cell_type": "markdown",
   "id": "c8d0566f",
   "metadata": {},
   "source": [
    "# 2:Generate a report about each genre and the total number of video games in the genre, Then save the report in a file  named \"genre_video_games.txt\""
   ]
  },
  {
   "cell_type": "code",
   "execution_count": 55,
   "id": "508d3868",
   "metadata": {},
   "outputs": [
    {
     "name": "stdout",
     "output_type": "stream",
     "text": [
      "Sports Genre has 2346 games\n",
      "Platform Genre has 886 games\n",
      "Racing Genre has 1249 games\n",
      "Role-Playing Genre has 1488 games\n",
      "Puzzle Genre has 582 games\n",
      "Misc Genre has 1739 games\n",
      "Shooter Genre has 1310 games\n",
      "Simulation Genre has 867 games\n",
      "Action Genre has 3316 games\n",
      "Fighting Genre has 848 games\n",
      "Adventure Genre has 1286 games\n",
      "Strategy Genre has 681 games\n",
      "\n",
      "**********************************************\n",
      "All video games add up to :16598 games\n"
     ]
    }
   ],
   "source": [
    "genres=data['Genre'].unique()\n",
    "total_games=0\n",
    "genre_games_list=[]\n",
    "for genre in genres:\n",
    "    genre_games=genre+\"_games\"\n",
    "    genre_games=0\n",
    "    for i in range(len(data)):\n",
    "        if data.loc[i].Genre==genre:\n",
    "            genre_games+=1\n",
    "    print(f\"{genre} Genre has {genre_games} games\")\n",
    "    genre_games_list.append(genre_games)\n",
    "    #creating the report text file\n",
    "    with open(\"genre_video_games.txt\",'a') as myfile:\n",
    "        myfile.write(f\"{genre} Genre has {genre_games} games\\n\")\n",
    "        myfile.close()\n",
    "    total_games+=genre_games\n",
    "print(\"\\n**********************************************\")\n",
    "print(f\"All video games add up to :{total_games} games\")"
   ]
  },
  {
   "cell_type": "code",
   "execution_count": 52,
   "id": "c61d9156",
   "metadata": {},
   "outputs": [
    {
     "name": "stdout",
     "output_type": "stream",
     "text": [
      "Sports Genre has 2346 games\n",
      "Platform Genre has 886 games\n",
      "Racing Genre has 1249 games\n",
      "Role-Playing Genre has 1488 games\n",
      "Puzzle Genre has 582 games\n",
      "Misc Genre has 1739 games\n",
      "Shooter Genre has 1310 games\n",
      "Simulation Genre has 867 games\n",
      "Action Genre has 3316 games\n",
      "Fighting Genre has 848 games\n",
      "Adventure Genre has 1286 games\n",
      "Strategy Genre has 681 games\n"
     ]
    }
   ],
   "source": [
    "##confirming whether the report has been saved succesfull\n",
    "with open(\"genre_video_games.txt\",'r') as report:\n",
    "    lines=report.readlines()\n",
    "    for line  in lines:\n",
    "        print(line.strip(\"\\n\"))"
   ]
  },
  {
   "cell_type": "markdown",
   "id": "9447f342",
   "metadata": {},
   "source": [
    "# 3:Plot a pie chart  for the genres and the video games in each genre"
   ]
  },
  {
   "cell_type": "code",
   "execution_count": 60,
   "id": "070126bf",
   "metadata": {},
   "outputs": [
    {
     "data": {
      "image/png": "[encoded data removed]",
      "text/plain": [
       "<Figure size 640x480 with 1 Axes>"
      ]
     },
     "metadata": {},
     "output_type": "display_data"
    }
   ],
   "source": [
    "labels=[]\n",
    "for genre in genres:\n",
    "    labels.append(genre)\n",
    "sizes=genre_games_list\n",
    "plt.title(\"A pie chart of each genre and its percentage of video games \")\n",
    "plt.pie(sizes,labels=labels,autopct='%1.f%%',counterclock=False)\n",
    "plt.show()"
   ]
  }
 ],
 "metadata": {
  "kernelspec": {
   "display_name": "Python 3 (ipykernel)",
   "language": "python",
   "name": "python3"
  },
  "language_info": {
   "codemirror_mode": {
    "name": "ipython",
    "version": 3
   },
   "file_extension": ".py",
   "mimetype": "text/x-python",
   "name": "python",
   "nbconvert_exporter": "python",
   "pygments_lexer": "ipython3",
   "version": "3.11.0"
  }
 },
 "nbformat": 4,
 "nbformat_minor": 5
}
