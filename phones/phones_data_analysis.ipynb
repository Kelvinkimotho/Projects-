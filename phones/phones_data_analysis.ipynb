{
 "cells": [
  {
   "cell_type": "code",
   "execution_count": 2,
   "id": "b5aa5f34",
   "metadata": {},
   "outputs": [],
   "source": [
    "#importing modules\n",
    "import pandas as pd\n",
    "import numpy as np\n",
    "import matplotlib.pyplot as plt\n",
    "import os\n"
   ]
  },
  {
   "cell_type": "code",
   "execution_count": 3,
   "id": "23337c85",
   "metadata": {},
   "outputs": [
    {
     "data": {
      "text/html": [
       "<div>\n",
       "<style scoped>\n",
       "    .dataframe tbody tr th:only-of-type {\n",
       "        vertical-align: middle;\n",
       "    }\n",
       "\n",
       "    .dataframe tbody tr th {\n",
       "        vertical-align: top;\n",
       "    }\n",
       "\n",
       "    .dataframe thead th {\n",
       "        text-align: right;\n",
       "    }\n",
       "</style>\n",
       "<table border=\"1\" class=\"dataframe\">\n",
       "  <thead>\n",
       "    <tr style=\"text-align: right;\">\n",
       "      <th></th>\n",
       "      <th>phone_name</th>\n",
       "      <th>brand</th>\n",
       "      <th>os</th>\n",
       "      <th>inches</th>\n",
       "      <th>resolution</th>\n",
       "      <th>battery</th>\n",
       "      <th>battery_type</th>\n",
       "      <th>ram(GB)</th>\n",
       "      <th>announcement_date</th>\n",
       "      <th>weight(g)</th>\n",
       "      <th>...</th>\n",
       "      <th>video_1080p</th>\n",
       "      <th>video_4K</th>\n",
       "      <th>video_8K</th>\n",
       "      <th>video_30fps</th>\n",
       "      <th>video_60fps</th>\n",
       "      <th>video_120fps</th>\n",
       "      <th>video_240fps</th>\n",
       "      <th>video_480fps</th>\n",
       "      <th>video_960fps</th>\n",
       "      <th>price(USD)</th>\n",
       "    </tr>\n",
       "  </thead>\n",
       "  <tbody>\n",
       "    <tr>\n",
       "      <th>0</th>\n",
       "      <td>Y6II Compact</td>\n",
       "      <td>Huawei</td>\n",
       "      <td>Android 5.1</td>\n",
       "      <td>5.0</td>\n",
       "      <td>720x1280</td>\n",
       "      <td>2200</td>\n",
       "      <td>Li-Po</td>\n",
       "      <td>2</td>\n",
       "      <td>2016-09-01</td>\n",
       "      <td>140.0</td>\n",
       "      <td>...</td>\n",
       "      <td>False</td>\n",
       "      <td>False</td>\n",
       "      <td>False</td>\n",
       "      <td>True</td>\n",
       "      <td>False</td>\n",
       "      <td>False</td>\n",
       "      <td>False</td>\n",
       "      <td>False</td>\n",
       "      <td>False</td>\n",
       "      <td>120.0</td>\n",
       "    </tr>\n",
       "    <tr>\n",
       "      <th>1</th>\n",
       "      <td>K20 plus</td>\n",
       "      <td>LG</td>\n",
       "      <td>Android 7.0</td>\n",
       "      <td>5.3</td>\n",
       "      <td>720x1280</td>\n",
       "      <td>2700</td>\n",
       "      <td>Li-Ion</td>\n",
       "      <td>2</td>\n",
       "      <td>2016-12-01</td>\n",
       "      <td>140.0</td>\n",
       "      <td>...</td>\n",
       "      <td>True</td>\n",
       "      <td>False</td>\n",
       "      <td>False</td>\n",
       "      <td>True</td>\n",
       "      <td>False</td>\n",
       "      <td>False</td>\n",
       "      <td>False</td>\n",
       "      <td>False</td>\n",
       "      <td>False</td>\n",
       "      <td>100.0</td>\n",
       "    </tr>\n",
       "    <tr>\n",
       "      <th>2</th>\n",
       "      <td>P8 Lite (2017)</td>\n",
       "      <td>Huawei</td>\n",
       "      <td>Android 7.0</td>\n",
       "      <td>5.2</td>\n",
       "      <td>1080x1920</td>\n",
       "      <td>3000</td>\n",
       "      <td>Li-Ion</td>\n",
       "      <td>4</td>\n",
       "      <td>2017-01-01</td>\n",
       "      <td>147.0</td>\n",
       "      <td>...</td>\n",
       "      <td>True</td>\n",
       "      <td>False</td>\n",
       "      <td>False</td>\n",
       "      <td>True</td>\n",
       "      <td>False</td>\n",
       "      <td>False</td>\n",
       "      <td>False</td>\n",
       "      <td>False</td>\n",
       "      <td>False</td>\n",
       "      <td>420.0</td>\n",
       "    </tr>\n",
       "    <tr>\n",
       "      <th>3</th>\n",
       "      <td>Redmi Note 4</td>\n",
       "      <td>Xiaomi</td>\n",
       "      <td>Android 6.0</td>\n",
       "      <td>5.5</td>\n",
       "      <td>1080x1920</td>\n",
       "      <td>4100</td>\n",
       "      <td>Li-Po</td>\n",
       "      <td>4</td>\n",
       "      <td>2017-01-01</td>\n",
       "      <td>165.0</td>\n",
       "      <td>...</td>\n",
       "      <td>True</td>\n",
       "      <td>False</td>\n",
       "      <td>False</td>\n",
       "      <td>True</td>\n",
       "      <td>False</td>\n",
       "      <td>True</td>\n",
       "      <td>False</td>\n",
       "      <td>False</td>\n",
       "      <td>False</td>\n",
       "      <td>150.0</td>\n",
       "    </tr>\n",
       "    <tr>\n",
       "      <th>4</th>\n",
       "      <td>P10</td>\n",
       "      <td>Huawei</td>\n",
       "      <td>Android 7.0</td>\n",
       "      <td>5.1</td>\n",
       "      <td>1080x1920</td>\n",
       "      <td>3200</td>\n",
       "      <td>Li-Ion</td>\n",
       "      <td>4</td>\n",
       "      <td>2017-02-01</td>\n",
       "      <td>145.0</td>\n",
       "      <td>...</td>\n",
       "      <td>True</td>\n",
       "      <td>True</td>\n",
       "      <td>False</td>\n",
       "      <td>True</td>\n",
       "      <td>True</td>\n",
       "      <td>False</td>\n",
       "      <td>False</td>\n",
       "      <td>False</td>\n",
       "      <td>False</td>\n",
       "      <td>420.0</td>\n",
       "    </tr>\n",
       "  </tbody>\n",
       "</table>\n",
       "<p>5 rows × 22 columns</p>\n",
       "</div>"
      ],
      "text/plain": [
       "       phone_name   brand           os  inches resolution  battery  \\\n",
       "0    Y6II Compact  Huawei  Android 5.1     5.0   720x1280     2200   \n",
       "1        K20 plus      LG  Android 7.0     5.3   720x1280     2700   \n",
       "2  P8 Lite (2017)  Huawei  Android 7.0     5.2  1080x1920     3000   \n",
       "3    Redmi Note 4  Xiaomi  Android 6.0     5.5  1080x1920     4100   \n",
       "4             P10  Huawei  Android 7.0     5.1  1080x1920     3200   \n",
       "\n",
       "  battery_type  ram(GB) announcement_date  weight(g)  ...  video_1080p  \\\n",
       "0        Li-Po        2        2016-09-01      140.0  ...        False   \n",
       "1       Li-Ion        2        2016-12-01      140.0  ...         True   \n",
       "2       Li-Ion        4        2017-01-01      147.0  ...         True   \n",
       "3        Li-Po        4        2017-01-01      165.0  ...         True   \n",
       "4       Li-Ion        4        2017-02-01      145.0  ...         True   \n",
       "\n",
       "   video_4K  video_8K  video_30fps  video_60fps  video_120fps  video_240fps  \\\n",
       "0     False     False         True        False         False         False   \n",
       "1     False     False         True        False         False         False   \n",
       "2     False     False         True        False         False         False   \n",
       "3     False     False         True        False          True         False   \n",
       "4      True     False         True         True         False         False   \n",
       "\n",
       "   video_480fps  video_960fps  price(USD)  \n",
       "0         False         False       120.0  \n",
       "1         False         False       100.0  \n",
       "2         False         False       420.0  \n",
       "3         False         False       150.0  \n",
       "4         False         False       420.0  \n",
       "\n",
       "[5 rows x 22 columns]"
      ]
     },
     "execution_count": 3,
     "metadata": {},
     "output_type": "execute_result"
    }
   ],
   "source": [
    "#reading from the csv \n",
    "df=pd.read_csv('phones.csv')\n",
    "df.head()"
   ]
  },
  {
   "cell_type": "code",
   "execution_count": 3,
   "id": "b65f6a66",
   "metadata": {},
   "outputs": [
    {
     "name": "stdout",
     "output_type": "stream",
     "text": [
      "Index(['phone_name', 'brand', 'os', 'inches', 'resolution', 'battery',\n",
      "       'battery_type', 'ram(GB)', 'announcement_date', 'weight(g)',\n",
      "       'storage(GB)', 'video_720p', 'video_1080p', 'video_4K', 'video_8K',\n",
      "       'video_30fps', 'video_60fps', 'video_120fps', 'video_240fps',\n",
      "       'video_480fps', 'video_960fps', 'price(USD)'],\n",
      "      dtype='object')\n"
     ]
    }
   ],
   "source": [
    "#Having a look at the number of columns the dataset has \n",
    "print(df.columns)"
   ]
  },
  {
   "cell_type": "code",
   "execution_count": 9,
   "id": "9f3dc6b4",
   "metadata": {},
   "outputs": [],
   "source": [
    "#i'll drop all columns with the  name video in them since i'll not be using them in this analysis\n",
    "#bellow is a list for storing all columns with 'video' in them\n",
    "columns_with_Video=[]\n",
    "#looping through the list of columns\n",
    "for column in df.columns:\n",
    "    #querying for columns with name like video\n",
    "    if 'video' in column:\n",
    "       #appending all those columns into the reserved list\n",
    "        columns_with_Video.append(column)"
   ]
  },
  {
   "cell_type": "code",
   "execution_count": 10,
   "id": "79dbbbd0",
   "metadata": {},
   "outputs": [],
   "source": [
    "#Doing the actual droping of  of the columns and saving the new dataset with fewer columns as an excel file\n",
    "df=df.drop(columns_with_Video,axis=1)\n",
    "#saving to a new dataset in excel format\n",
    "df.to_excel('cleaner_phones.xlsx',index=False)"
   ]
  },
  {
   "cell_type": "markdown",
   "id": "2ee113a1",
   "metadata": {},
   "source": [
    "# This is now the new dataset i'll be using for this analysis"
   ]
  },
  {
   "cell_type": "code",
   "execution_count": 19,
   "id": "279dd8f9",
   "metadata": {},
   "outputs": [
    {
     "data": {
      "text/html": [
       "<div>\n",
       "<style scoped>\n",
       "    .dataframe tbody tr th:only-of-type {\n",
       "        vertical-align: middle;\n",
       "    }\n",
       "\n",
       "    .dataframe tbody tr th {\n",
       "        vertical-align: top;\n",
       "    }\n",
       "\n",
       "    .dataframe thead th {\n",
       "        text-align: right;\n",
       "    }\n",
       "</style>\n",
       "<table border=\"1\" class=\"dataframe\">\n",
       "  <thead>\n",
       "    <tr style=\"text-align: right;\">\n",
       "      <th></th>\n",
       "      <th>phone_name</th>\n",
       "      <th>brand</th>\n",
       "      <th>os</th>\n",
       "      <th>inches</th>\n",
       "      <th>resolution</th>\n",
       "      <th>battery</th>\n",
       "      <th>battery_type</th>\n",
       "      <th>ram(GB)</th>\n",
       "      <th>announcement_date</th>\n",
       "      <th>weight(g)</th>\n",
       "      <th>storage(GB)</th>\n",
       "      <th>price(USD)</th>\n",
       "    </tr>\n",
       "  </thead>\n",
       "  <tbody>\n",
       "    <tr>\n",
       "      <th>0</th>\n",
       "      <td>Y6II Compact</td>\n",
       "      <td>Huawei</td>\n",
       "      <td>Android 5.1</td>\n",
       "      <td>5.0</td>\n",
       "      <td>720x1280</td>\n",
       "      <td>2200</td>\n",
       "      <td>Li-Po</td>\n",
       "      <td>2</td>\n",
       "      <td>2016-09-01</td>\n",
       "      <td>140</td>\n",
       "      <td>16</td>\n",
       "      <td>120.0</td>\n",
       "    </tr>\n",
       "    <tr>\n",
       "      <th>1</th>\n",
       "      <td>K20 plus</td>\n",
       "      <td>LG</td>\n",
       "      <td>Android 7.0</td>\n",
       "      <td>5.3</td>\n",
       "      <td>720x1280</td>\n",
       "      <td>2700</td>\n",
       "      <td>Li-Ion</td>\n",
       "      <td>2</td>\n",
       "      <td>2016-12-01</td>\n",
       "      <td>140</td>\n",
       "      <td>16</td>\n",
       "      <td>100.0</td>\n",
       "    </tr>\n",
       "    <tr>\n",
       "      <th>2</th>\n",
       "      <td>P8 Lite (2017)</td>\n",
       "      <td>Huawei</td>\n",
       "      <td>Android 7.0</td>\n",
       "      <td>5.2</td>\n",
       "      <td>1080x1920</td>\n",
       "      <td>3000</td>\n",
       "      <td>Li-Ion</td>\n",
       "      <td>4</td>\n",
       "      <td>2017-01-01</td>\n",
       "      <td>147</td>\n",
       "      <td>16</td>\n",
       "      <td>420.0</td>\n",
       "    </tr>\n",
       "  </tbody>\n",
       "</table>\n",
       "</div>"
      ],
      "text/plain": [
       "       phone_name   brand           os  inches resolution  battery  \\\n",
       "0    Y6II Compact  Huawei  Android 5.1     5.0   720x1280     2200   \n",
       "1        K20 plus      LG  Android 7.0     5.3   720x1280     2700   \n",
       "2  P8 Lite (2017)  Huawei  Android 7.0     5.2  1080x1920     3000   \n",
       "\n",
       "  battery_type  ram(GB) announcement_date  weight(g)  storage(GB)  price(USD)  \n",
       "0        Li-Po        2        2016-09-01        140           16       120.0  \n",
       "1       Li-Ion        2        2016-12-01        140           16       100.0  \n",
       "2       Li-Ion        4        2017-01-01        147           16       420.0  "
      ]
     },
     "execution_count": 19,
     "metadata": {},
     "output_type": "execute_result"
    }
   ],
   "source": [
    "#let's have a look at the head of our new dataset\n",
    "new_df=pd.read_excel('cleaner_phones.xlsx')\n",
    "new_df.head(3)"
   ]
  },
  {
   "cell_type": "code",
   "execution_count": null,
   "id": "64c13eb4",
   "metadata": {},
   "outputs": [],
   "source": [
    "#Let's do some cleaning on the \"OS\" column\n",
    "new_df[\"OS\"]=new_df['os'].astype(str).apply(lambda x:x.split(\" \"))[0]"
   ]
  },
  {
   "cell_type": "code",
   "execution_count": 13,
   "id": "5a1f8557",
   "metadata": {},
   "outputs": [
    {
     "name": "stdout",
     "output_type": "stream",
     "text": [
      "The new dataset only has 12 columns\n"
     ]
    }
   ],
   "source": [
    "#as you can see the new dataset has fewer columns\n",
    "print(f\"The new dataset only has {len(new_df.columns)} columns\")"
   ]
  },
  {
   "cell_type": "markdown",
   "id": "08043049",
   "metadata": {},
   "source": [
    "# 1::Which Manufacture(brand) Owns the most phones"
   ]
  },
  {
   "cell_type": "code",
   "execution_count": 13,
   "id": "525d1eda",
   "metadata": {},
   "outputs": [
    {
     "name": "stdout",
     "output_type": "stream",
     "text": [
      "Huawei :: 137 phones\n",
      "LG :: 75 phones\n",
      "Xiaomi :: 264 phones\n",
      "Sony :: 37 phones\n",
      "Oppo :: 213 phones\n",
      "Samsung :: 206 phones\n",
      "Lenovo :: 43 phones\n",
      "Apple :: 22 phones\n",
      "Google :: 19 phones\n",
      "Honor :: 124 phones\n",
      "Realme :: 157 phones\n",
      "OnePlus :: 47 phones\n",
      "Vivo :: 168 phones\n",
      "Total phones = 1512 phones\n"
     ]
    }
   ],
   "source": [
    "#Bellow variable stores the total number of phones , this should be equivalent to the number of rows in the dataset\n",
    "total_phones=0\n",
    "#Bellow is a list of all manufacturers/brands\n",
    "manufacturers=new_df.brand.unique()\n",
    "#the following list stores the brand total phones\n",
    "manufacturer_total_list=[]\n",
    "#looping through the list of mannufacturers\n",
    "for manufacturer in manufacturers:\n",
    "    manufacturer_total_phones=f\"{manufacturer}_total_phones\"\n",
    "    manufacturer_total_phones=0\n",
    "    #looping through the entire dataset\n",
    "    for i in range(len(new_df)):\n",
    "        if new_df.loc[i].brand==manufacturer:\n",
    "            manufacturer_total_phones+=1\n",
    "    print(f\"{manufacturer} :: {manufacturer_total_phones} phones\")\n",
    "    total_phones+=manufacturer_total_phones\n",
    "    manufacturer_total_list.append(manufacturer_total_phones)\n",
    "print(f\"Total phones = {total_phones} phones\")"
   ]
  },
  {
   "cell_type": "markdown",
   "id": "dfaa2156",
   "metadata": {},
   "source": [
    "# Visualizing my findings....."
   ]
  },
  {
   "cell_type": "code",
   "execution_count": 17,
   "id": "cf5487d8",
   "metadata": {},
   "outputs": [
    {
     "data": {
      "text/plain": [
       "Text(0.5, 1.0, 'Manufacturers And Phones Associated to Them')"
      ]
     },
     "execution_count": 17,
     "metadata": {},
     "output_type": "execute_result"
    },
    {
     "data": {
      "image/png": "[encoded data removed]",
      "text/plain": [
       "<Figure size 900x500 with 1 Axes>"
      ]
     },
     "metadata": {},
     "output_type": "display_data"
    }
   ],
   "source": [
    "#ploting a graph\n",
    "plt.figure(figsize=(9,5))\n",
    "plt.barh(manufacturers,manufacturer_total_list,color=\"blue\")\n",
    "plt.xlabel(\"Number of Phones A brand Owns \")\n",
    "plt.ylabel(\"Brand\")\n",
    "plt.title(\"Manufacturers And Phones Associated to Them\")"
   ]
  },
  {
   "cell_type": "markdown",
   "id": "ff868e3c",
   "metadata": {},
   "source": [
    "# 2:Which is the most popular battery type used in Phones?.Visualize your findings"
   ]
  },
  {
   "cell_type": "code",
   "execution_count": 17,
   "id": "d0d17822",
   "metadata": {},
   "outputs": [
    {
     "name": "stdout",
     "output_type": "stream",
     "text": [
      "1242 use Li-Po batteries \n",
      "270 use Li-Ion batteries \n"
     ]
    }
   ],
   "source": [
    "#Bellow is a list of battery type\n",
    "battery_types=new_df['battery_type'].unique()\n",
    "#This list stores the number of phones that use certain battery types\n",
    "phones_using_various_battery_type=[]\n",
    "#looping through the list above\n",
    "for battery_type in battery_types:\n",
    "    battery_type_phones=f\"{battery_type}_phones\"\n",
    "    battery_type_phones=0\n",
    "    #loping through the dataframe\n",
    "    for i in range(len(new_df)):\n",
    "        if df.loc[i].battery_type==battery_type:\n",
    "            battery_type_phones+=1\n",
    "    phones_using_various_battery_type.append(battery_type_phones)\n",
    "    print(f\"{battery_type_phones} use {battery_type} batteries \")\n"
   ]
  },
  {
   "cell_type": "code",
   "execution_count": 18,
   "id": "380d2790",
   "metadata": {},
   "outputs": [
    {
     "data": {
      "image/png": "[encoded data removed]",
      "text/plain": [
       "<Figure size 640x480 with 1 Axes>"
      ]
     },
     "metadata": {},
     "output_type": "display_data"
    }
   ],
   "source": [
    "#visualizing my findings using a piechart\n",
    "plt.title(\"A pie chart of Battery types and the percentage of phones using them \")\n",
    "plt.pie(phones_using_various_battery_type,labels=battery_types,autopct='%1.f%%',counterclock=False)\n",
    "plt.show()"
   ]
  }
 ],
 "metadata": {
  "kernelspec": {
   "display_name": "Python 3 (ipykernel)",
   "language": "python",
   "name": "python3"
  },
  "language_info": {
   "codemirror_mode": {
    "name": "ipython",
    "version": 3
   },
   "file_extension": ".py",
   "mimetype": "text/x-python",
   "name": "python",
   "nbconvert_exporter": "python",
   "pygments_lexer": "ipython3",
   "version": "3.11.0"
  }
 },
 "nbformat": 4,
 "nbformat_minor": 5
}
