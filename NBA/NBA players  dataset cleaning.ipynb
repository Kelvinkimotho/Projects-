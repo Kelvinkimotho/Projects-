{
 "cells": [
  {
   "cell_type": "markdown",
   "id": "c63da182",
   "metadata": {},
   "source": [
    "# Start with importing modules that i'll be using\n"
   ]
  },
  {
   "cell_type": "code",
   "execution_count": 20,
   "id": "6bdfc30a",
   "metadata": {},
   "outputs": [],
   "source": [
    "import pandas as pd\n",
    "import os\n",
    "import matplotlib.pyplot as plt\n"
   ]
  },
  {
   "cell_type": "markdown",
   "id": "53832833",
   "metadata": {},
   "source": [
    "# confirming what is in the folder where the dataset is located"
   ]
  },
  {
   "cell_type": "code",
   "execution_count": 3,
   "id": "3a1d794c",
   "metadata": {},
   "outputs": [
    {
     "name": "stdout",
     "output_type": "stream",
     "text": [
      ".ipynb_checkpoints\n",
      "NBA players  dataset cleaning.ipynb\n",
      "nba_players.csv\n"
     ]
    }
   ],
   "source": [
    "path='C:/Users/kelvin/Desktop/projct/proj2'\n",
    "files=[file for file in os.listdir(path)]\n",
    "for file in files:\n",
    "    print(file)"
   ]
  },
  {
   "cell_type": "markdown",
   "id": "7ceb3952",
   "metadata": {},
   "source": [
    "# i'll be using the nba-players csv file"
   ]
  },
  {
   "cell_type": "code",
   "execution_count": 6,
   "id": "78368d03",
   "metadata": {},
   "outputs": [],
   "source": [
    "df=pd.read_csv('nba_players.csv')\n",
    "df['ID']=df['id']\n",
    "df['Full_name']=df['first_name']+\" \"+df['last_name']\n",
    "df['Position']=df['position']\n",
    "df['Team_id']=df['id_team']\n",
    "df['Team_name']=df['name']\n",
    "df['Team_abbreviation']=df['abbreviation']\n",
    "df['City']=df['city']\n",
    "df['Conference']=df['conference']\n",
    "df['Division']=df['division']\n",
    "df.to_excel('nba_players.xlsx',index=False)"
   ]
  },
  {
   "cell_type": "code",
   "execution_count": 8,
   "id": "a6562093",
   "metadata": {},
   "outputs": [],
   "source": [
    "data=pd.read_excel('nba_players.xlsx')\n",
    "data=data.drop(['id','first_name','last_name','position','id_team','abbreviation','city','conference','division','full_name','name'],axis=1)\n",
    "data.to_excel('nba_players.xlsx',index=False)"
   ]
  },
  {
   "cell_type": "markdown",
   "id": "9de375ad",
   "metadata": {},
   "source": [
    "# After some cleaning ,Here is the dataset "
   ]
  },
  {
   "cell_type": "code",
   "execution_count": 10,
   "id": "586c2439",
   "metadata": {},
   "outputs": [
    {
     "data": {
      "text/html": [
       "<div>\n",
       "<style scoped>\n",
       "    .dataframe tbody tr th:only-of-type {\n",
       "        vertical-align: middle;\n",
       "    }\n",
       "\n",
       "    .dataframe tbody tr th {\n",
       "        vertical-align: top;\n",
       "    }\n",
       "\n",
       "    .dataframe thead th {\n",
       "        text-align: right;\n",
       "    }\n",
       "</style>\n",
       "<table border=\"1\" class=\"dataframe\">\n",
       "  <thead>\n",
       "    <tr style=\"text-align: right;\">\n",
       "      <th></th>\n",
       "      <th>ID</th>\n",
       "      <th>Full_name</th>\n",
       "      <th>Position</th>\n",
       "      <th>Team_id</th>\n",
       "      <th>Team_name</th>\n",
       "      <th>Team_abbreviation</th>\n",
       "      <th>City</th>\n",
       "      <th>Conference</th>\n",
       "      <th>Division</th>\n",
       "    </tr>\n",
       "  </thead>\n",
       "  <tbody>\n",
       "    <tr>\n",
       "      <th>0</th>\n",
       "      <td>14</td>\n",
       "      <td>Ike Anigbogu</td>\n",
       "      <td>C</td>\n",
       "      <td>12</td>\n",
       "      <td>Pacers</td>\n",
       "      <td>IND</td>\n",
       "      <td>Indiana</td>\n",
       "      <td>East</td>\n",
       "      <td>Central</td>\n",
       "    </tr>\n",
       "    <tr>\n",
       "      <th>1</th>\n",
       "      <td>25</td>\n",
       "      <td>Ron Baker</td>\n",
       "      <td>G</td>\n",
       "      <td>20</td>\n",
       "      <td>Knicks</td>\n",
       "      <td>NYK</td>\n",
       "      <td>New York</td>\n",
       "      <td>East</td>\n",
       "      <td>Atlantic</td>\n",
       "    </tr>\n",
       "    <tr>\n",
       "      <th>2</th>\n",
       "      <td>47</td>\n",
       "      <td>Jabari Bird</td>\n",
       "      <td>G</td>\n",
       "      <td>2</td>\n",
       "      <td>Celtics</td>\n",
       "      <td>BOS</td>\n",
       "      <td>Boston</td>\n",
       "      <td>East</td>\n",
       "      <td>Atlantic</td>\n",
       "    </tr>\n",
       "    <tr>\n",
       "      <th>3</th>\n",
       "      <td>67</td>\n",
       "      <td>MarShon Brooks</td>\n",
       "      <td>G</td>\n",
       "      <td>15</td>\n",
       "      <td>Grizzlies</td>\n",
       "      <td>MEM</td>\n",
       "      <td>Memphis</td>\n",
       "      <td>West</td>\n",
       "      <td>Southwest</td>\n",
       "    </tr>\n",
       "    <tr>\n",
       "      <th>4</th>\n",
       "      <td>71</td>\n",
       "      <td>Lorenzo Brown</td>\n",
       "      <td>G</td>\n",
       "      <td>28</td>\n",
       "      <td>Raptors</td>\n",
       "      <td>TOR</td>\n",
       "      <td>Toronto</td>\n",
       "      <td>East</td>\n",
       "      <td>Atlantic</td>\n",
       "    </tr>\n",
       "    <tr>\n",
       "      <th>...</th>\n",
       "      <td>...</td>\n",
       "      <td>...</td>\n",
       "      <td>...</td>\n",
       "      <td>...</td>\n",
       "      <td>...</td>\n",
       "      <td>...</td>\n",
       "      <td>...</td>\n",
       "      <td>...</td>\n",
       "      <td>...</td>\n",
       "    </tr>\n",
       "    <tr>\n",
       "      <th>995</th>\n",
       "      <td>1444</td>\n",
       "      <td>Juaquin Hawkins</td>\n",
       "      <td>NaN</td>\n",
       "      <td>11</td>\n",
       "      <td>Rockets</td>\n",
       "      <td>HOU</td>\n",
       "      <td>Houston</td>\n",
       "      <td>West</td>\n",
       "      <td>Southwest</td>\n",
       "    </tr>\n",
       "    <tr>\n",
       "      <th>996</th>\n",
       "      <td>1445</td>\n",
       "      <td>Yao Ming</td>\n",
       "      <td>NaN</td>\n",
       "      <td>11</td>\n",
       "      <td>Rockets</td>\n",
       "      <td>HOU</td>\n",
       "      <td>Houston</td>\n",
       "      <td>West</td>\n",
       "      <td>Southwest</td>\n",
       "    </tr>\n",
       "    <tr>\n",
       "      <th>997</th>\n",
       "      <td>1446</td>\n",
       "      <td>Bostjan Nachbar</td>\n",
       "      <td>NaN</td>\n",
       "      <td>11</td>\n",
       "      <td>Rockets</td>\n",
       "      <td>HOU</td>\n",
       "      <td>Houston</td>\n",
       "      <td>West</td>\n",
       "      <td>Southwest</td>\n",
       "    </tr>\n",
       "    <tr>\n",
       "      <th>998</th>\n",
       "      <td>1447</td>\n",
       "      <td>Fred Jones</td>\n",
       "      <td>NaN</td>\n",
       "      <td>12</td>\n",
       "      <td>Pacers</td>\n",
       "      <td>IND</td>\n",
       "      <td>Indiana</td>\n",
       "      <td>East</td>\n",
       "      <td>Central</td>\n",
       "    </tr>\n",
       "    <tr>\n",
       "      <th>999</th>\n",
       "      <td>1448</td>\n",
       "      <td>Dan Dickau</td>\n",
       "      <td>NaN</td>\n",
       "      <td>1</td>\n",
       "      <td>Hawks</td>\n",
       "      <td>ATL</td>\n",
       "      <td>Atlanta</td>\n",
       "      <td>East</td>\n",
       "      <td>Southeast</td>\n",
       "    </tr>\n",
       "  </tbody>\n",
       "</table>\n",
       "<p>1000 rows × 9 columns</p>\n",
       "</div>"
      ],
      "text/plain": [
       "       ID        Full_name Position  Team_id  Team_name Team_abbreviation  \\\n",
       "0      14     Ike Anigbogu        C       12     Pacers               IND   \n",
       "1      25        Ron Baker        G       20     Knicks               NYK   \n",
       "2      47      Jabari Bird        G        2    Celtics               BOS   \n",
       "3      67   MarShon Brooks        G       15  Grizzlies               MEM   \n",
       "4      71    Lorenzo Brown        G       28    Raptors               TOR   \n",
       "..    ...              ...      ...      ...        ...               ...   \n",
       "995  1444  Juaquin Hawkins      NaN       11    Rockets               HOU   \n",
       "996  1445         Yao Ming      NaN       11    Rockets               HOU   \n",
       "997  1446  Bostjan Nachbar      NaN       11    Rockets               HOU   \n",
       "998  1447       Fred Jones      NaN       12     Pacers               IND   \n",
       "999  1448       Dan Dickau      NaN        1      Hawks               ATL   \n",
       "\n",
       "         City Conference   Division  \n",
       "0     Indiana       East    Central  \n",
       "1    New York       East   Atlantic  \n",
       "2      Boston       East   Atlantic  \n",
       "3     Memphis       West  Southwest  \n",
       "4     Toronto       East   Atlantic  \n",
       "..        ...        ...        ...  \n",
       "995   Houston       West  Southwest  \n",
       "996   Houston       West  Southwest  \n",
       "997   Houston       West  Southwest  \n",
       "998   Indiana       East    Central  \n",
       "999   Atlanta       East  Southeast  \n",
       "\n",
       "[1000 rows x 9 columns]"
      ]
     },
     "execution_count": 10,
     "metadata": {},
     "output_type": "execute_result"
    }
   ],
   "source": [
    "df=pd.read_excel('nba_players.xlsx')\n",
    "df"
   ]
  },
  {
   "cell_type": "markdown",
   "id": "2e21aea6",
   "metadata": {},
   "source": [
    "# Lets find how many teams participate in th NBA league"
   ]
  },
  {
   "cell_type": "code",
   "execution_count": 12,
   "id": "d3b53cca",
   "metadata": {},
   "outputs": [
    {
     "name": "stdout",
     "output_type": "stream",
     "text": [
      "29 teams participate in the NBA league\n"
     ]
    }
   ],
   "source": [
    "teams=df['Team_name'].unique()\n",
    "print(f\"{len(teams)} teams participate in the NBA league\")"
   ]
  },
  {
   "cell_type": "markdown",
   "id": "711887cf",
   "metadata": {},
   "source": [
    "# Lets see how many conferences participate in the NBA  league\n"
   ]
  },
  {
   "cell_type": "code",
   "execution_count": 17,
   "id": "e80b3cdd",
   "metadata": {},
   "outputs": [
    {
     "name": "stdout",
     "output_type": "stream",
     "text": [
      "only 2 conferences participate in NBA league: Namely,\n",
      "\n",
      "East\n",
      "West\n"
     ]
    }
   ],
   "source": [
    "conferences=df['Conference'].unique()\n",
    "print(f\"only {len(conferences)} conferences participate in NBA league: Namely,\\n\")\n",
    "for conference in conferences:\n",
    "    print(conference)"
   ]
  },
  {
   "cell_type": "markdown",
   "id": "e81aafb4",
   "metadata": {},
   "source": [
    "# Let's find out which conference has the largest number of Teams"
   ]
  },
  {
   "cell_type": "code",
   "execution_count": 21,
   "id": "5a31478e",
   "metadata": {},
   "outputs": [
    {
     "name": "stdout",
     "output_type": "stream",
     "text": [
      "It's clear that Western conference has more teams than the Eastern conference with a total of 504 Teams\n"
     ]
    }
   ],
   "source": [
    "East_teams=[]\n",
    "West_teams=[]\n",
    "for i in range(len(df)):\n",
    "    if df.loc[i].Conference==\"East\":\n",
    "        East_teams.append(df.loc[i].Team_name)\n",
    "    else:\n",
    "        West_teams.append(df.loc[i].Team_name)\n",
    "if len(East_teams) > len(West_teams):\n",
    "    print(f\"It's clear that Eastern conference has more teams than the western conference with a total of {len(East_teams)} Teams\")\n",
    "elif len(West_teams) > len(East_teams):\n",
    "     print(f\"It's clear that Western conference has more teams than the Eastern conference with a total of {len(West_teams)} Teams\")\n",
    "else:\n",
    "      print(\"both conferences have equal number of teams\")\n"
   ]
  },
  {
   "cell_type": "code",
   "execution_count": 22,
   "id": "e33afc80",
   "metadata": {},
   "outputs": [
    {
     "name": "stdout",
     "output_type": "stream",
     "text": [
      "Western conference teams are 504\n",
      "Eastern conference are 496\n"
     ]
    }
   ],
   "source": [
    "print(f\"Western conference teams are {len(West_teams)}\\nEastern conference are {len(East_teams)}\")"
   ]
  },
  {
   "cell_type": "markdown",
   "id": "758a6dd5",
   "metadata": {},
   "source": [
    "# A pie chart showing teams in the western and Eastern conferences"
   ]
  },
  {
   "cell_type": "code",
   "execution_count": 35,
   "id": "f3e1dbd9",
   "metadata": {},
   "outputs": [
    {
     "data": {
      "image/png": "[encoded data removed]",
      "text/plain": [
       "<Figure size 640x480 with 1 Axes>"
      ]
     },
     "metadata": {},
     "output_type": "display_data"
    }
   ],
   "source": [
    "import matplotlib.pyplot as pyplot\n",
    "labels=[\"Eastern\",\"Western\"]\n",
    "#sizes=[100,400]\n",
    "sizes=[len(East_teams),len(West_teams)]\n",
    "pyplot.pie(sizes,labels=labels\n",
    "          ,autopct='%1.f%%',counterclock=False,startangle=45)\n",
    "pyplot.show()"
   ]
  },
  {
   "cell_type": "markdown",
   "id": "a88cf0a7",
   "metadata": {},
   "source": [
    "# Lets see how many divisions are there in the NBA league"
   ]
  },
  {
   "cell_type": "code",
   "execution_count": 39,
   "id": "950342a7",
   "metadata": {},
   "outputs": [
    {
     "name": "stdout",
     "output_type": "stream",
     "text": [
      "There are 6 divisions in NBA league ,namely:\n",
      "\n",
      "Central\n",
      "Atlantic\n",
      "Southwest\n",
      "Northwest\n",
      "Pacific\n",
      "Southeast\n"
     ]
    }
   ],
   "source": [
    "divisions=df['Division'].unique()\n",
    "print(f\"There are {len(divisions)} divisions in NBA league ,namely:\\n\")\n",
    "for dv in divisions:\n",
    "    print(dv)"
   ]
  },
  {
   "cell_type": "markdown",
   "id": "0e65624a",
   "metadata": {},
   "source": [
    "# Finding out which division has the most number of players"
   ]
  },
  {
   "cell_type": "code",
   "execution_count": 41,
   "id": "9b1850cd",
   "metadata": {},
   "outputs": [
    {
     "name": "stdout",
     "output_type": "stream",
     "text": [
      "Central division = 166 players\n",
      "Atlantic division = 139 players\n",
      "Southwest division = 133 players\n",
      "Northwest division = 181 players\n",
      "Pacific division = 190 players\n",
      "Southeast division = 191 players\n"
     ]
    }
   ],
   "source": [
    "Central_players=[]\n",
    "Atlantic_players=[]\n",
    "Southwest_players=[]\n",
    "Northwest_players=[]\n",
    "Pacific_players=[]\n",
    "Southeast_players=[]\n",
    "\n",
    "for i in range(len(df)):\n",
    "    if df.loc[i].Division==\"Central\":\n",
    "         Central_players.append(df.loc[i].Full_name)\n",
    "    elif df.loc[i].Division==\"Atlantic\":\n",
    "        Atlantic_players.append(df.loc[i].Full_name)\n",
    "    elif df.loc[i].Division==\"Southwest\":\n",
    "        Southwest_players.append(df.loc[i].Full_name)\n",
    "    elif df.loc[i].Division==\"Northwest\":\n",
    "        Northwest_players.append(df.loc[i].Full_name)\n",
    "    elif df.loc[i].Division==\"Pacific\":\n",
    "        Pacific_players.append(df.loc[i].Full_name)\n",
    "    elif df.loc[i].Division==\"Southeast\":\n",
    "        Southeast_players.append(df.loc[i].Full_name)\n",
    "print(f\"Central division = {len(Central_players)} players\")\n",
    "print(f\"Atlantic division = {len(Atlantic_players)} players\")\n",
    "print(f\"Southwest division = {len(Southwest_players)} players\")\n",
    "print(f\"Northwest division = {len(Northwest_players)} players\")\n",
    "print(f\"Pacific division = {len(Pacific_players)} players\")\n",
    "print(f\"Southeast division = {len(Southeast_players)} players\")"
   ]
  },
  {
   "cell_type": "markdown",
   "id": "36d8e437",
   "metadata": {},
   "source": [
    "# A pie chart showing which division has most players "
   ]
  },
  {
   "cell_type": "code",
   "execution_count": 42,
   "id": "bcc3b186",
   "metadata": {},
   "outputs": [
    {
     "data": {
      "image/png": "[encoded data removed]",
      "text/plain": [
       "<Figure size 640x480 with 1 Axes>"
      ]
     },
     "metadata": {},
     "output_type": "display_data"
    }
   ],
   "source": [
    "sizes=[len(Central_players),len(Atlantic_players),len(Southwest_players),len(Northwest_players),len(Pacific_players),len(Southeast_players)]\n",
    "labels=['central','Atlantic','southwest','northwest','pacific','southeast']\n",
    "pyplot.pie(sizes,labels=labels\n",
    "          ,autopct='%1.f%%',counterclock=False,startangle=45)\n",
    "pyplot.show()"
   ]
  }
 ],
 "metadata": {
  "kernelspec": {
   "display_name": "Python 3 (ipykernel)",
   "language": "python",
   "name": "python3"
  },
  "language_info": {
   "codemirror_mode": {
    "name": "ipython",
    "version": 3
   },
   "file_extension": ".py",
   "mimetype": "text/x-python",
   "name": "python",
   "nbconvert_exporter": "python",
   "pygments_lexer": "ipython3",
   "version": "3.11.0"
  }
 },
 "nbformat": 4,
 "nbformat_minor": 5
}
