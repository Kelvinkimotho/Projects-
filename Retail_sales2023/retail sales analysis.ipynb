{
 "cells": [
  {
   "cell_type": "markdown",
   "id": "74d4695b",
   "metadata": {},
   "source": [
    "# importing modules"
   ]
  },
  {
   "cell_type": "code",
   "execution_count": 1,
   "id": "1dc13b63",
   "metadata": {},
   "outputs": [],
   "source": [
    "import pandas as pd\n",
    "import matplotlib.pyplot as plt"
   ]
  },
  {
   "cell_type": "markdown",
   "id": "3bfdf0fe",
   "metadata": {},
   "source": [
    "# reading from the sales csv Data file"
   ]
  },
  {
   "cell_type": "code",
   "execution_count": 15,
   "id": "2d1a10b9",
   "metadata": {},
   "outputs": [
    {
     "data": {
      "text/html": [
       "<div>\n",
       "<style scoped>\n",
       "    .dataframe tbody tr th:only-of-type {\n",
       "        vertical-align: middle;\n",
       "    }\n",
       "\n",
       "    .dataframe tbody tr th {\n",
       "        vertical-align: top;\n",
       "    }\n",
       "\n",
       "    .dataframe thead th {\n",
       "        text-align: right;\n",
       "    }\n",
       "</style>\n",
       "<table border=\"1\" class=\"dataframe\">\n",
       "  <thead>\n",
       "    <tr style=\"text-align: right;\">\n",
       "      <th></th>\n",
       "      <th>Transaction ID</th>\n",
       "      <th>Date</th>\n",
       "      <th>Customer ID</th>\n",
       "      <th>Gender</th>\n",
       "      <th>Age</th>\n",
       "      <th>Product Category</th>\n",
       "      <th>Quantity</th>\n",
       "      <th>Price per Unit</th>\n",
       "      <th>Total Amount</th>\n",
       "    </tr>\n",
       "  </thead>\n",
       "  <tbody>\n",
       "    <tr>\n",
       "      <th>0</th>\n",
       "      <td>1</td>\n",
       "      <td>2023-11-24</td>\n",
       "      <td>CUST001</td>\n",
       "      <td>Male</td>\n",
       "      <td>34</td>\n",
       "      <td>Beauty</td>\n",
       "      <td>3</td>\n",
       "      <td>50</td>\n",
       "      <td>150</td>\n",
       "    </tr>\n",
       "    <tr>\n",
       "      <th>1</th>\n",
       "      <td>2</td>\n",
       "      <td>2023-02-27</td>\n",
       "      <td>CUST002</td>\n",
       "      <td>Female</td>\n",
       "      <td>26</td>\n",
       "      <td>Clothing</td>\n",
       "      <td>2</td>\n",
       "      <td>500</td>\n",
       "      <td>1000</td>\n",
       "    </tr>\n",
       "    <tr>\n",
       "      <th>2</th>\n",
       "      <td>3</td>\n",
       "      <td>2023-01-13</td>\n",
       "      <td>CUST003</td>\n",
       "      <td>Male</td>\n",
       "      <td>50</td>\n",
       "      <td>Electronics</td>\n",
       "      <td>1</td>\n",
       "      <td>30</td>\n",
       "      <td>30</td>\n",
       "    </tr>\n",
       "    <tr>\n",
       "      <th>3</th>\n",
       "      <td>4</td>\n",
       "      <td>2023-05-21</td>\n",
       "      <td>CUST004</td>\n",
       "      <td>Male</td>\n",
       "      <td>37</td>\n",
       "      <td>Clothing</td>\n",
       "      <td>1</td>\n",
       "      <td>500</td>\n",
       "      <td>500</td>\n",
       "    </tr>\n",
       "    <tr>\n",
       "      <th>4</th>\n",
       "      <td>5</td>\n",
       "      <td>2023-05-06</td>\n",
       "      <td>CUST005</td>\n",
       "      <td>Male</td>\n",
       "      <td>30</td>\n",
       "      <td>Beauty</td>\n",
       "      <td>2</td>\n",
       "      <td>50</td>\n",
       "      <td>100</td>\n",
       "    </tr>\n",
       "  </tbody>\n",
       "</table>\n",
       "</div>"
      ],
      "text/plain": [
       "   Transaction ID        Date Customer ID  Gender  Age Product Category  \\\n",
       "0               1  2023-11-24     CUST001    Male   34           Beauty   \n",
       "1               2  2023-02-27     CUST002  Female   26         Clothing   \n",
       "2               3  2023-01-13     CUST003    Male   50      Electronics   \n",
       "3               4  2023-05-21     CUST004    Male   37         Clothing   \n",
       "4               5  2023-05-06     CUST005    Male   30           Beauty   \n",
       "\n",
       "   Quantity  Price per Unit  Total Amount  \n",
       "0         3              50           150  \n",
       "1         2             500          1000  \n",
       "2         1              30            30  \n",
       "3         1             500           500  \n",
       "4         2              50           100  "
      ]
     },
     "execution_count": 15,
     "metadata": {},
     "output_type": "execute_result"
    }
   ],
   "source": [
    "df=pd.read_csv(\"retail_sales_dataset.csv\")\n",
    "df.head()"
   ]
  },
  {
   "cell_type": "markdown",
   "id": "de6eb5bb",
   "metadata": {},
   "source": [
    "# renaming column names with spaces replacing the spaces with underscore(_)"
   ]
  },
  {
   "cell_type": "code",
   "execution_count": 6,
   "id": "1ade5ff7",
   "metadata": {},
   "outputs": [],
   "source": [
    "df.rename(columns={'Transaction ID':'Transaction_ID','Customer ID':'Customer_ID','Product Category':'Product_Category','Price per Unit':'Unit_price','Total_Amount':'Total'},inplace=True)\n"
   ]
  },
  {
   "cell_type": "code",
   "execution_count": 8,
   "id": "6c834f29",
   "metadata": {},
   "outputs": [
    {
     "data": {
      "text/html": [
       "<div>\n",
       "<style scoped>\n",
       "    .dataframe tbody tr th:only-of-type {\n",
       "        vertical-align: middle;\n",
       "    }\n",
       "\n",
       "    .dataframe tbody tr th {\n",
       "        vertical-align: top;\n",
       "    }\n",
       "\n",
       "    .dataframe thead th {\n",
       "        text-align: right;\n",
       "    }\n",
       "</style>\n",
       "<table border=\"1\" class=\"dataframe\">\n",
       "  <thead>\n",
       "    <tr style=\"text-align: right;\">\n",
       "      <th></th>\n",
       "      <th>Transaction_ID</th>\n",
       "      <th>Date</th>\n",
       "      <th>Customer_ID</th>\n",
       "      <th>Gender</th>\n",
       "      <th>Age</th>\n",
       "      <th>Product_Category</th>\n",
       "      <th>Quantity</th>\n",
       "      <th>Unit_price</th>\n",
       "      <th>Total</th>\n",
       "      <th>Total</th>\n",
       "    </tr>\n",
       "  </thead>\n",
       "  <tbody>\n",
       "    <tr>\n",
       "      <th>0</th>\n",
       "      <td>1</td>\n",
       "      <td>2023-11-24</td>\n",
       "      <td>CUST001</td>\n",
       "      <td>Male</td>\n",
       "      <td>34</td>\n",
       "      <td>Beauty</td>\n",
       "      <td>3</td>\n",
       "      <td>50</td>\n",
       "      <td>150</td>\n",
       "      <td>150</td>\n",
       "    </tr>\n",
       "    <tr>\n",
       "      <th>1</th>\n",
       "      <td>2</td>\n",
       "      <td>2023-02-27</td>\n",
       "      <td>CUST002</td>\n",
       "      <td>Female</td>\n",
       "      <td>26</td>\n",
       "      <td>Clothing</td>\n",
       "      <td>2</td>\n",
       "      <td>500</td>\n",
       "      <td>1000</td>\n",
       "      <td>1000</td>\n",
       "    </tr>\n",
       "    <tr>\n",
       "      <th>2</th>\n",
       "      <td>3</td>\n",
       "      <td>2023-01-13</td>\n",
       "      <td>CUST003</td>\n",
       "      <td>Male</td>\n",
       "      <td>50</td>\n",
       "      <td>Electronics</td>\n",
       "      <td>1</td>\n",
       "      <td>30</td>\n",
       "      <td>30</td>\n",
       "      <td>30</td>\n",
       "    </tr>\n",
       "  </tbody>\n",
       "</table>\n",
       "</div>"
      ],
      "text/plain": [
       "   Transaction_ID        Date Customer_ID  Gender  Age Product_Category  \\\n",
       "0               1  2023-11-24     CUST001    Male   34           Beauty   \n",
       "1               2  2023-02-27     CUST002  Female   26         Clothing   \n",
       "2               3  2023-01-13     CUST003    Male   50      Electronics   \n",
       "\n",
       "   Quantity  Unit_price  Total  Total  \n",
       "0         3          50    150    150  \n",
       "1         2         500   1000   1000  \n",
       "2         1          30     30     30  "
      ]
     },
     "execution_count": 8,
     "metadata": {},
     "output_type": "execute_result"
    }
   ],
   "source": [
    "df.head(3)"
   ]
  },
  {
   "cell_type": "markdown",
   "id": "3cca7bac",
   "metadata": {},
   "source": [
    "# Droping one total column since we have two"
   ]
  },
  {
   "cell_type": "code",
   "execution_count": null,
   "id": "8ce316cb",
   "metadata": {},
   "outputs": [],
   "source": [
    "df=df.drop(['Total'],axis=1)"
   ]
  },
  {
   "cell_type": "code",
   "execution_count": 12,
   "id": "bd03039d",
   "metadata": {},
   "outputs": [
    {
     "data": {
      "text/html": [
       "<div>\n",
       "<style scoped>\n",
       "    .dataframe tbody tr th:only-of-type {\n",
       "        vertical-align: middle;\n",
       "    }\n",
       "\n",
       "    .dataframe tbody tr th {\n",
       "        vertical-align: top;\n",
       "    }\n",
       "\n",
       "    .dataframe thead th {\n",
       "        text-align: right;\n",
       "    }\n",
       "</style>\n",
       "<table border=\"1\" class=\"dataframe\">\n",
       "  <thead>\n",
       "    <tr style=\"text-align: right;\">\n",
       "      <th></th>\n",
       "      <th>Transaction_ID</th>\n",
       "      <th>Date</th>\n",
       "      <th>Customer_ID</th>\n",
       "      <th>Gender</th>\n",
       "      <th>Age</th>\n",
       "      <th>Product_Category</th>\n",
       "      <th>Quantity</th>\n",
       "      <th>Unit_price</th>\n",
       "    </tr>\n",
       "  </thead>\n",
       "  <tbody>\n",
       "    <tr>\n",
       "      <th>0</th>\n",
       "      <td>1</td>\n",
       "      <td>2023-11-24</td>\n",
       "      <td>CUST001</td>\n",
       "      <td>Male</td>\n",
       "      <td>34</td>\n",
       "      <td>Beauty</td>\n",
       "      <td>3</td>\n",
       "      <td>50</td>\n",
       "    </tr>\n",
       "    <tr>\n",
       "      <th>1</th>\n",
       "      <td>2</td>\n",
       "      <td>2023-02-27</td>\n",
       "      <td>CUST002</td>\n",
       "      <td>Female</td>\n",
       "      <td>26</td>\n",
       "      <td>Clothing</td>\n",
       "      <td>2</td>\n",
       "      <td>500</td>\n",
       "    </tr>\n",
       "    <tr>\n",
       "      <th>2</th>\n",
       "      <td>3</td>\n",
       "      <td>2023-01-13</td>\n",
       "      <td>CUST003</td>\n",
       "      <td>Male</td>\n",
       "      <td>50</td>\n",
       "      <td>Electronics</td>\n",
       "      <td>1</td>\n",
       "      <td>30</td>\n",
       "    </tr>\n",
       "  </tbody>\n",
       "</table>\n",
       "</div>"
      ],
      "text/plain": [
       "   Transaction_ID        Date Customer_ID  Gender  Age Product_Category  \\\n",
       "0               1  2023-11-24     CUST001    Male   34           Beauty   \n",
       "1               2  2023-02-27     CUST002  Female   26         Clothing   \n",
       "2               3  2023-01-13     CUST003    Male   50      Electronics   \n",
       "\n",
       "   Quantity  Unit_price  \n",
       "0         3          50  \n",
       "1         2         500  \n",
       "2         1          30  "
      ]
     },
     "execution_count": 12,
     "metadata": {},
     "output_type": "execute_result"
    }
   ],
   "source": [
    "df.head(3)"
   ]
  },
  {
   "cell_type": "markdown",
   "id": "d08c18f6",
   "metadata": {},
   "source": [
    "# Creating some additional columns namely Year, month and Total_Sales"
   ]
  },
  {
   "cell_type": "code",
   "execution_count": null,
   "id": "0a56c5f5",
   "metadata": {},
   "outputs": [],
   "source": [
    "#year column comes from operations on the Date column\n",
    "df['Year']=df['Date'].astype(str).apply(lambda x:x.split(\"-\")[0])\n",
    "#month's column\n",
    "df['Month']=df['Date'].astype(str).apply(lambda y:y.split(\"-\")[1])\n",
    "#Total sales column results from finding the product of Unit_price and The quantity sold\n",
    "df['Total_sales']=df['Quantity']*df['Unit_price']\n",
    "df.head(3)"
   ]
  },
  {
   "cell_type": "markdown",
   "id": "c3c1114a",
   "metadata": {},
   "source": [
    "# Let's now start answering some questions arising from the Retail sales"
   ]
  },
  {
   "cell_type": "markdown",
   "id": "c164a115",
   "metadata": {},
   "source": [
    "# Question one::::Which product category has most of the customers being Men?"
   ]
  },
  {
   "cell_type": "code",
   "execution_count": 27,
   "id": "5700ce07",
   "metadata": {},
   "outputs": [
    {
     "name": "stdout",
     "output_type": "stream",
     "text": [
      "Beauty male buyers :: 141\n",
      "Clothing male buyers :: 177\n",
      "Electronics male buyers :: 172\n"
     ]
    }
   ],
   "source": [
    "#list of product categories\n",
    "categories=df['Product_Category'].unique()\n",
    "#list storing male category buyers\n",
    "male_buyers_list=[]\n",
    "#first looping through the products categories\n",
    "for category in categories:\n",
    "    category_male_sales=f\"{category}_male_sales\"\n",
    "    category_male_sales=0\n",
    "    for i in range(len(df)):\n",
    "        if df.loc[i].Product_Category==category and df.loc[i].Gender=='Male':\n",
    "            category_male_sales+=1\n",
    "    print(f\"{category} male buyers :: {category_male_sales}\")\n",
    "    male_buyers_list.append(category_male_sales)\n"
   ]
  },
  {
   "cell_type": "code",
   "execution_count": 29,
   "id": "1b6b3bef",
   "metadata": {},
   "outputs": [
    {
     "data": {
      "text/plain": [
       "Text(0.5, 1.0, 'Male Customers as per Product categories')"
      ]
     },
     "execution_count": 29,
     "metadata": {},
     "output_type": "execute_result"
    },
    {
     "data": {
      "image/png": "[encoded data removed]",
      "text/plain": [
       "<Figure size 800x500 with 1 Axes>"
      ]
     },
     "metadata": {},
     "output_type": "display_data"
    }
   ],
   "source": [
    "#visualising my findings using a bargraph\n",
    "plt.figure(figsize=(8,5))\n",
    "plt.barh(categories,male_buyers_list,color=\"green\")\n",
    "plt.xlabel(\"Male Customers\")\n",
    "plt.ylabel(\"Product category\")\n",
    "plt.title(\"Male Customers as per Product categories\")"
   ]
  },
  {
   "cell_type": "markdown",
   "id": "d13a7178",
   "metadata": {},
   "source": [
    "# Task 2::How Does customer Gender influence their purchasing behaviour?"
   ]
  },
  {
   "cell_type": "code",
   "execution_count": 34,
   "id": "f0ea138c",
   "metadata": {},
   "outputs": [
    {
     "name": "stdout",
     "output_type": "stream",
     "text": [
      "Male total sales:: 223160\n",
      "Female total sales:: 232840\n"
     ]
    }
   ],
   "source": [
    "#Finding customer Genders\n",
    "genders=df['Gender'].unique()\n",
    "#A list storing Gender based total sales\n",
    "gender_total_list=[]\n",
    "#looping through the genders list \n",
    "for gender in genders:\n",
    "    #variable to store each gender total sales amount \n",
    "    gender_total_sales=f\"{gender}_total_sales\"\n",
    "    gender_total_sales=0\n",
    "    #looping through the entire Dataframe\n",
    "    for i in range(len(df)):\n",
    "        if df.loc[i].Gender==gender:\n",
    "            gender_total_sales+=df.loc[i].Total_sales\n",
    "    gender_total_list.append(gender_total_sales)\n",
    "    print(f\"{gender} total sales:: {gender_total_sales}\")\n",
    "    total_sales+=gender_total_sales\n"
   ]
  },
  {
   "cell_type": "code",
   "execution_count": 35,
   "id": "d9662946",
   "metadata": {},
   "outputs": [
    {
     "data": {
      "image/png": "[encoded data removed]",
      "text/plain": [
       "<Figure size 640x480 with 1 Axes>"
      ]
     },
     "metadata": {},
     "output_type": "display_data"
    }
   ],
   "source": [
    "#vusualising my findings using a piechart\n",
    "sizes=gender_total_list\n",
    "plt.pie(\n",
    "    sizes,\n",
    "    labels=genders\n",
    "    ,autopct='%1.f%%',counterclock=False,startangle=45)\n",
    "plt.title(\"Gender Based total sales\")\n",
    "plt.show()"
   ]
  }
 ],
 "metadata": {
  "kernelspec": {
   "display_name": "Python 3 (ipykernel)",
   "language": "python",
   "name": "python3"
  },
  "language_info": {
   "codemirror_mode": {
    "name": "ipython",
    "version": 3
   },
   "file_extension": ".py",
   "mimetype": "text/x-python",
   "name": "python",
   "nbconvert_exporter": "python",
   "pygments_lexer": "ipython3",
   "version": "3.11.0"
  }
 },
 "nbformat": 4,
 "nbformat_minor": 5
}
